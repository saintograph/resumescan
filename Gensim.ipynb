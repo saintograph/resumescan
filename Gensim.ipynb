{
 "cells": [
  {
   "cell_type": "code",
   "execution_count": 33,
   "metadata": {},
   "outputs": [],
   "source": [
    "import re\n",
    "import string\n",
    "import nltk\n",
    "from gensim import corpora, models, similarities\n",
    "from fuzzywuzzy import fuzz\n",
    "from fuzzywuzzy import process"
   ]
  },
  {
   "cell_type": "code",
   "execution_count": 2,
   "metadata": {},
   "outputs": [
    {
     "name": "stderr",
     "output_type": "stream",
     "text": [
      "[nltk_data] Downloading package wordnet to\n",
      "[nltk_data]     C:\\Users\\winfr\\AppData\\Roaming\\nltk_data...\n",
      "[nltk_data]   Package wordnet is already up-to-date!\n"
     ]
    },
    {
     "data": {
      "text/plain": [
       "True"
      ]
     },
     "execution_count": 2,
     "metadata": {},
     "output_type": "execute_result"
    }
   ],
   "source": [
    "nltk.download('wordnet')"
   ]
  },
  {
   "cell_type": "code",
   "execution_count": 3,
   "metadata": {},
   "outputs": [
    {
     "name": "stderr",
     "output_type": "stream",
     "text": [
      "[nltk_data] Downloading package omw-1.4 to\n",
      "[nltk_data]     C:\\Users\\winfr\\AppData\\Roaming\\nltk_data...\n",
      "[nltk_data]   Package omw-1.4 is already up-to-date!\n"
     ]
    },
    {
     "data": {
      "text/plain": [
       "True"
      ]
     },
     "execution_count": 3,
     "metadata": {},
     "output_type": "execute_result"
    }
   ],
   "source": [
    "nltk.download('omw-1.4')"
   ]
  },
  {
   "cell_type": "code",
   "execution_count": 19,
   "metadata": {},
   "outputs": [],
   "source": [
    "ad = \"\"\"\n",
    "Develop & Maintain Web / Mobile Application\n",
    "Translating requirement and mock up into fully functioning feature.\n",
    "Frontend and backend development outlined in defined technical instructions and specifications for systems and applications\n",
    "Build/integrate web API/webhooks\n",
    "Coordinate tests with end users\n",
    "Write/rewrite code in reusable and maintainable way\n",
    "Translating requirement and mock up into fully functioning feature\n",
    "Requirements\n",
    "\n",
    "Expertise in HTML, CSS, JavaScript (ES6) & MySQL.\n",
    "Expertise in NodeJS.\n",
    "Expertise in React, NextJS Framework.\n",
    "Experience in writing RESTful API.\n",
    "Familiar with TypeScript.\n",
    "Familiar with Git version control.\n",
    "Having experience in RWD development.\n",
    "Willing to learn and embrace new technologies, strong communication skills.\n",
    "Write/rewrite code in reusable and maintainable way.\n",
    "1 - 3 years experience\n",
    "Required language(s): English, Mandarin.\n",
    "\n",
    "\"\"\""
   ]
  },
  {
   "cell_type": "code",
   "execution_count": 20,
   "metadata": {},
   "outputs": [],
   "source": [
    "resume = \"\"\"\n",
    "\n",
    "Coursework - Algorithms and Data Structures, Object Oriented Programming, Software Design and\n",
    "Development, Agile Software Projects, Advanced Database Techniques, Digital Signal Processing, IoT,\n",
    "Machine Learning, and Artificial Intelligence.\n",
    "Created a RESTful API from scratch.\n",
    "Experience\n",
    "Senior SOFTWARE DEVELOPER, NINDATECH SDN. BHD. — DEC 2019 - PRESENT\n",
    "Planned and executed implementation of a SaaS application’s frontend/backend for gamifying HR.\\\n",
    "built large datasets\n",
    "worked with non-relational databases Postgresql\n",
    "Created image to text API to significantly decrease user’s time spent on web forms.\n",
    "Improved internal Agile software development with discrete optimisation techniques and\n",
    "increased sprint completion rate.\n",
    "Optimised frontend with caching and architectural improvements, cutting down rendering time by\n",
    "an estimated 5% - 11% overall.\n",
    "7+ years of professional experience (A technical assessment will be required)\n",
    "3+ years recent experience developing in Golang\n",
    "Database skills – You understand the use cases for relational and non-relational data, you’ve implemented code against several different database platforms.\n",
    "You are comfortable manipulating large data sets\n",
    "Ability to create clean, modern, testable, well-documented code\n",
    "English fluency, verbal and written\n",
    "Professional, empathic, team player\n",
    "Problem solver, proactive, go-getter\n",
    "Technology stack - ReactJS (with Redux, Redux-Saga), Python, Loopback 3 & 4, PostgreSQL, MongoDB.\n",
    "CONTRACT DEVELOPER, HYRE GROUP LTD. — 2018 - 2019\n",
    "Implemented mobile payment with Braintree.\n",
    "Created freelance babysitter marketplace application released to Play Store and App Store..\n",
    "Technology stack - React-Native, ExpressJS, MongoDB, Digital Ocean.\n",
    "CONTRACT LEAD DEVELOPER, ONE RELIEF — 2018 - 2019\n",
    "Implemented platform payment system with Apple Pay, Google Pay and Paypal which processed\n",
    "thousands of dollars in donations.\n",
    "Implemented a social media sharing feature from a donation page which increased user\n",
    "engagement with the platform.\n",
    "Technology stack - PugJS, ExpressJS, MongoDB, Amazon AWS.\n",
    "CONTRACT DEVELOPER, UDACITY BLITZ — JUNE 2017 - DEC 2017\n",
    "Created an internal video editing application for Android and iOS with React-Native. Rewrote video\n",
    "editing functions with modules written in C++.\n",
    "Implemented a serverless API for a book review and recommendation SaaS product deployed to\n",
    "AWS Lambda.\n",
    "Created an API with Python for a NLP based conversational system serving a Javascript powered\n",
    "chatbot for automated customer support.\n",
    "Technology stack - React-Native, Flask, Serverless, MongoDB, Amazon AWS.\n",
    "PART-TIME CODE MENTOR, UDACITY INC. JAN 2017 - MARCH 2020\n",
    "Mentored students learning front-end web development, mobile development and deep learning.\n",
    "Technology stack - React, React-Native, Tensorflow.\n",
    "Personal Projects\n",
    "Indoor farming - urban IoT vegetable farm with automated lighting, irrigation and data collection.\n",
    "Hardware/software stack - C++, Python, ESP8266, Raspberry Pi.\n",
    "Self-driving robot car - autonomous mapping and navigation.\n",
    "Hardware/software stack - Python, C++, ROS, Nvidia Jetson Nano.\n",
    "Skills\n",
    "Software: (proficient): Javascript, Python, HTML, CSS, Git (familiar): C++, SQL, Unix, Typescript\n",
    "\"\"\""
   ]
  },
  {
   "cell_type": "code",
   "execution_count": 21,
   "metadata": {},
   "outputs": [
    {
     "name": "stderr",
     "output_type": "stream",
     "text": [
      "[nltk_data] Downloading package stopwords to\n",
      "[nltk_data]     C:\\Users\\winfr\\AppData\\Roaming\\nltk_data...\n",
      "[nltk_data]   Package stopwords is already up-to-date!\n",
      "[nltk_data] Downloading package punkt to\n",
      "[nltk_data]     C:\\Users\\winfr\\AppData\\Roaming\\nltk_data...\n",
      "[nltk_data]   Package punkt is already up-to-date!\n"
     ]
    }
   ],
   "source": [
    "from nltk.stem import WordNetLemmatizer\n",
    "nltk.download('stopwords')\n",
    "nltk.download('punkt')\n",
    "# stopwords = nltk.corpus.stopwords.words('english')\n",
    "from nltk.corpus import stopwords"
   ]
  },
  {
   "cell_type": "code",
   "execution_count": 22,
   "metadata": {},
   "outputs": [],
   "source": [
    "from nltk.stem import WordNetLemmatizer\n",
    "from nltk.tokenize import word_tokenize\n",
    "from pprint import pprint"
   ]
  },
  {
   "cell_type": "code",
   "execution_count": 23,
   "metadata": {},
   "outputs": [],
   "source": [
    "# lemmatizer = WordNetLemmatizer()\n",
    "# text = \"You'll assist our skilled support team and operations team in triaging and resolving production issues\"\n",
    "\n",
    "# def lemmetize_print(words):\n",
    "#      a = []\n",
    "#      tokens = word_tokenize(words)\n",
    "#      for token in tokens:\n",
    "#           lemmetized_word = lemmatizer.lemmatize(token)\n",
    "#           a.append(lemmetized_word)\n",
    "#      pprint({a[i] : tokens[i] for i in range(len(a))}, indent = 1, depth=5)\n",
    "\n",
    "# lemmetize_print(\"You'll assist our skilled support team and operations team in triaging and resolving production issues\")"
   ]
  },
  {
   "cell_type": "code",
   "execution_count": 24,
   "metadata": {},
   "outputs": [],
   "source": [
    "punctuation = string.punctuation + \"'\"\n",
    "lemmatizer = WordNetLemmatizer()\n",
    "def remove_punctuation(text):\n",
    "    res = re.sub(r'[^\\w\\s]', '', text)\n",
    "    return res\n",
    "def tokenization(text):\n",
    "#     res = re.split('W+',text)\n",
    "#     res = [x.replace('\\n','') for x in res]\n",
    "    res = nltk.sent_tokenize(text)\n",
    "    return res\n",
    "def remove_stopwords(text):\n",
    "    return [word for word in text if not word in stopwords.words()]\n",
    "def lemmatizer_func(text):\n",
    "#     test = lemmatizer.lemmatize(\"bats\")\n",
    "#     for word in text:\n",
    "#         lemmatizer.lemmatize(word)\n",
    "#     print(text)\n",
    "    res = [lemmatizer.lemmatize(word) for word in text]\n",
    "    return res"
   ]
  },
  {
   "cell_type": "code",
   "execution_count": 25,
   "metadata": {},
   "outputs": [],
   "source": [
    "def process_text(text):\n",
    "#     text = remove_punctuation(text)\n",
    "    text = text.replace(\"\\n\", \".\")\n",
    "    text = tokenization(text)\n",
    "    text = lemmatizer_func(text)\n",
    "    text = remove_stopwords(text)\n",
    "\n",
    "    return text"
   ]
  },
  {
   "cell_type": "code",
   "execution_count": 26,
   "metadata": {},
   "outputs": [],
   "source": [
    "resume = \"\"\"\n",
    "\n",
    "Coursework - Algorithms and Data Structures, Object Oriented Programming, Software Design and\n",
    "Development, Agile Software Projects, Advanced Database Techniques, Digital Signal Processing, IoT,\n",
    "Machine Learning, and Artificial Intelligence.\n",
    "Experience\n",
    "Senior SOFTWARE DEVELOPER, NINDATECH SDN. BHD. — DEC 2019 - PRESENT\n",
    "• Planned and executed implementation of a SaaS application’s frontend/backend for gamifying HR.\\\n",
    "* built large datasets\n",
    "* worked with non-relational databases Postgresql\n",
    "• Created image to text API to significantly decrease user’s time spent on web forms.\n",
    "• Improved internal Agile software development with discrete optimisation techniques and\n",
    "increased sprint completion rate.\n",
    "Optimised frontend with caching and architectural improvements, cutting down rendering time by\n",
    "an estimated 5% - 11% overall.\n",
    "7+ years of professional experience (A technical assessment will be required)\n",
    "3+ years recent experience developing in Golang\n",
    "Database skills – You understand the use cases for relational and non-relational data, you’ve implemented code against several different database platforms.\n",
    "You are comfortable manipulating large data sets\n",
    "Ability to create clean, modern, testable, well-documented code\n",
    "English fluency, verbal and written\n",
    "Professional, empathic, team player\n",
    "Problem solver, proactive, go-getter\n",
    "Technology stack - ReactJS (with Redux, Redux-Saga), Python, Loopback 3 & 4, PostgreSQL, MongoDB.\n",
    "CONTRACT DEVELOPER, HYRE GROUP LTD. — 2018 - 2019\n",
    "Implemented mobile payment with Braintree.\n",
    "Created freelance babysitter marketplace application released to Play Store and App Store..\n",
    "Technology stack - React-Native, ExpressJS, MongoDB, Digital Ocean.\n",
    "CONTRACT LEAD DEVELOPER, ONE RELIEF — 2018 - 2019\n",
    "Implemented platform payment system with Apple Pay, Google Pay and Paypal which processed\n",
    "thousands of dollars in donations.\n",
    "Implemented a social media sharing feature from a donation page which increased user\n",
    "engagement with the platform.\n",
    "Technology stack - PugJS, ExpressJS, MongoDB, Amazon AWS.\n",
    "CONTRACT DEVELOPER, UDACITY BLITZ — JUNE 2017 - DEC 2017\n",
    "Created an internal video editing application for Android and iOS with React-Native. Rewrote video\n",
    "editing functions with modules written in C++.\n",
    "Implemented a serverless API for a book review and recommendation SaaS product deployed to\n",
    "AWS Lambda.\n",
    "Created an API with Python for a NLP based conversational system serving a Javascript powered\n",
    "chatbot for automated customer support.\n",
    "Technology stack - React-Native, Flask, Serverless, MongoDB, Amazon AWS.\n",
    "PART-TIME CODE MENTOR, UDACITY INC. JAN 2017 - MARCH 2020\n",
    "Mentored students learning front-end web development, mobile development and deep learning.\n",
    "Technology stack - React, React-Native, Tensorflow.\n",
    "Personal Projects\n",
    "Indoor farming - urban IoT vegetable farm with automated lighting, irrigation and data collection.\n",
    "Hardware/software stack - C++, Python, ESP8266, Raspberry Pi.\n",
    "Self-driving robot car - autonomous mapping and navigation.\n",
    "Hardware/software stack - Python, C++, ROS, Nvidia Jetson Nano.\n",
    "Skills\n",
    "Software: (proficient): Javascript, Python, HTML, CSS, Git (familiar): C++, SQL, Unix, Typescript\n",
    "\"\"\""
   ]
  },
  {
   "cell_type": "code",
   "execution_count": 27,
   "metadata": {},
   "outputs": [],
   "source": [
    "ad = \"\"\"\n",
    "Develop & Maintain Web / Mobile Application.\n",
    "Translating requirement and mock up into fully functioning feature.\n",
    "Frontend and backend development outlined in defined technical instructions and specifications for systems and applications.\n",
    "Build/integrate web API/webhooks.\n",
    "Coordinate tests with end users.\n",
    "Write/rewrite code in reusable and maintainable way.\n",
    "\n",
    "Requirements\n",
    "\n",
    "Expertise in HTML, CSS, JavaScript (ES6) & MySQL.\n",
    "Expertise in NodeJS.\n",
    "Expertise in React, NextJS Framework.\n",
    "Experience in writing RESTful API.\n",
    "Familiar with TypeScript.\n",
    "Familiar with Git version control.\n",
    "Having experience in RWD development.\n",
    "Willing to learn and embrace new technologies, strong communication skills.\n",
    "Write/rewrite code in reusable and maintainable way.\n",
    "1 - 3 years experience\n",
    "Required language(s): English, Mandarin.\n",
    "\n",
    "\"\"\""
   ]
  },
  {
   "cell_type": "code",
   "execution_count": 38,
   "metadata": {},
   "outputs": [
    {
     "name": "stdout",
     "output_type": "stream",
     "text": [
      "keyword is similar to text: Willing to learn and embrace new technologies, strong communication skills., 46.20\n",
      "43\n"
     ]
    }
   ],
   "source": [
    "import jieba\n",
    "# original_texts = ['Experience in writing RESTful API.', 'Expertise in React, NextJS Framework.', 'Required language(s): English, Mandarin.']\n",
    "original_texts = nltk.sent_tokenize(ad.replace(\"\\n\", \" \"))\n",
    "keyword = \"NO fear of new technology, want to sleep all day. CAn talk any client to sleep\"\n",
    "texts = [jieba.lcut(text) for text in original_texts]\n",
    "dictionary = corpora.Dictionary(texts)\n",
    "feature_cnt = len(dictionary.token2id)\n",
    "corpus = [dictionary.doc2bow(text) for text in texts]\n",
    "tfidf = models.TfidfModel(corpus) \n",
    "kw_vector = dictionary.doc2bow(jieba.lcut(keyword))\n",
    "index = similarities.SparseMatrixSimilarity(tfidf[corpus], num_features = feature_cnt)\n",
    "sim = index[tfidf[kw_vector]]\n",
    "for i in range(len(sim)):\n",
    "#     print('keyword is similar to text%d: %.2f' % (i + 1, sim[i]))\n",
    "    if sim[i] > 0.1:\n",
    "        print('keyword is similar to text: %s, %.2f' % (original_texts[i], sim[i] * 100))\n",
    "        print(fuzz.partial_ratio(original_texts[i], keyword))\n"
   ]
  },
  {
   "cell_type": "code",
   "execution_count": 37,
   "metadata": {},
   "outputs": [
    {
     "name": "stdout",
     "output_type": "stream",
     "text": [
      " Develop & Maintain Web / Mobile Application.\n"
     ]
    }
   ],
   "source": [
    "print(original_texts[0])"
   ]
  },
  {
   "cell_type": "code",
   "execution_count": 16,
   "metadata": {},
   "outputs": [
    {
     "name": "stdout",
     "output_type": "stream",
     "text": [
      "Built frontends to fulfill business requirements from mockups.\n"
     ]
    }
   ],
   "source": [
    "print(keyword)"
   ]
  },
  {
   "cell_type": "code",
   "execution_count": null,
   "metadata": {},
   "outputs": [],
   "source": []
  }
 ],
 "metadata": {
  "kernelspec": {
   "display_name": "Python 3",
   "language": "python",
   "name": "python3"
  },
  "language_info": {
   "codemirror_mode": {
    "name": "ipython",
    "version": 3
   },
   "file_extension": ".py",
   "mimetype": "text/x-python",
   "name": "python",
   "nbconvert_exporter": "python",
   "pygments_lexer": "ipython3",
   "version": "3.8.10"
  }
 },
 "nbformat": 4,
 "nbformat_minor": 4
}
