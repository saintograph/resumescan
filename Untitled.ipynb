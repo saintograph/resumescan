{
 "cells": [
  {
   "cell_type": "code",
   "execution_count": 268,
   "metadata": {},
   "outputs": [],
   "source": [
    "import re\n",
    "import string\n",
    "import nltk"
   ]
  },
  {
   "cell_type": "code",
   "execution_count": 314,
   "metadata": {},
   "outputs": [],
   "source": []
  },
  {
   "cell_type": "code",
   "execution_count": 315,
   "metadata": {},
   "outputs": [],
   "source": []
  },
  {
   "cell_type": "code",
   "execution_count": 316,
   "metadata": {},
   "outputs": [
    {
     "name": "stdout",
     "output_type": "stream",
     "text": [
      "\n",
      "Remote Senior Backend Engineer Go\n",
      "Our 100% remote team of 400+ CleverPeople are seasoned yet friendly professionals who want to collaborate and welcome you. We have an exciting new opening for a Senior Backend Engineer - Go (Golang).\n",
      "\n",
      "What we're working on: Enterprise companies turn to us to help them launch innovative digital products that interact with hundreds of millions of customers, transactions and data points. The problems we solve every day are real and require creativity, grit and determination. We are building a culture that challenges norms while fostering experimentation and personal growth. In order to grasp the scale of problems we face, ideally, you have some exposure to Logistics, FinTech, Transportation, Insurance, Media or other complex multifactor industries\n",
      "\n",
      "Requirements\n",
      "\n",
      "7+ years of professional experience (A technical assessment will be required)\n",
      "3+ years recent experience developing in Golang\n",
      "Database skills – You understand the use cases for relational and non-relational data, you’ve implemented code against several different database platforms.\n",
      "You are comfortable manipulating large data sets\n",
      "Ability to create clean, modern, testable, well-documented code\n",
      "English fluency, verbal and written\n",
      "Professional, empathic, team player\n",
      "Problem solver, proactive, go-getter\n",
      "\n"
     ]
    }
   ],
   "source": [
    "print(ad)"
   ]
  },
  {
   "cell_type": "code",
   "execution_count": 434,
   "metadata": {},
   "outputs": [
    {
     "name": "stderr",
     "output_type": "stream",
     "text": [
      "[nltk_data] Downloading package stopwords to\n",
      "[nltk_data]     C:\\Users\\winfr\\AppData\\Roaming\\nltk_data...\n",
      "[nltk_data]   Package stopwords is already up-to-date!\n",
      "[nltk_data] Downloading package punkt to\n",
      "[nltk_data]     C:\\Users\\winfr\\AppData\\Roaming\\nltk_data...\n",
      "[nltk_data]   Package punkt is already up-to-date!\n"
     ]
    }
   ],
   "source": [
    "from nltk.stem import WordNetLemmatizer\n",
    "nltk.download('stopwords')\n",
    "nltk.download('punkt')\n",
    "# stopwords = nltk.corpus.stopwords.words('english')\n",
    "from nltk.corpus import stopwords"
   ]
  },
  {
   "cell_type": "code",
   "execution_count": 435,
   "metadata": {},
   "outputs": [],
   "source": [
    "punctuation = string.punctuation + \"'\"\n",
    "def remove_punctuation(text):\n",
    "    res = re.sub(r'[^\\w\\s]', '', text)\n",
    "    return res\n",
    "def tokenization(text):\n",
    "#     res = re.split('W+',text)\n",
    "#     res = [x.replace('\\n','') for x in res]\n",
    "    res = nltk.sent_tokenize(text)\n",
    "    return res\n",
    "def remove_stopwords(text):\n",
    "    return [word for word in text if not word in stopwords.words()]\n",
    "def lemmatizer(text):\n",
    "    res = [wordnet_lemmatizer.lemmatize(word) for word in text]\n",
    "    return res"
   ]
  },
  {
   "cell_type": "code",
   "execution_count": 452,
   "metadata": {},
   "outputs": [],
   "source": [
    "def process_text(text):\n",
    "\n",
    "    text = remove_punctuation(text)\n",
    "    text = text.replace(\"\\n\", \" \")\n",
    "    text = tokenization(text)\n",
    "    text = remove_stopwords(text)\n",
    "    return text"
   ]
  },
  {
   "cell_type": "code",
   "execution_count": 453,
   "metadata": {},
   "outputs": [
    {
     "name": "stdout",
     "output_type": "stream",
     "text": [
      "[' CoinGecko is a global leader in tracking cryptocurrency data Operating since 2014 CoinGecko has built the worlds largest cryptocurrency data platform tracking over 10000 tokens across more than 400 exchanges serving over 300 million page views in more than 100 countries We are proud to have played a major part in mainstream awareness adoption and education of cryptocurrency globally   We at CoinGecko believe that cryptocurrency and blockchain will define the future of finance bringing greater financial and economic freedom around the world In anticipation of that future CoinGecko is building the foundation to scale cryptocurrency market data to serve billions   Please note that this is a remote role for those based in Malaysia or Singapore If you are based outside of these countries still feel free to apply and we will review your application   We practice transparent salaries and a level structure at CoinGecko  L1 Salary RM6538 L2 Salary RM10257 L3 Salary RM13188 L4 Salary RM17133  We are prioritizing hires from L2L4 but junior candidates are encouraged to apply   Learn more about our level structure at  httpswwwcoingeckocomencareerscareerprogression   We are working on several exciting projects and each project will require a different set of expertise A quick overview  Crypto Exchange Requires graphql ruby on the backend and experience working with APIs Gecko Terminal Requires react on the frontend and experience reading Etherscan Web Development Requires ruby on the backend  What youll be doing  Work with our engineering team and product managers to ship products Articulate a long term vision for maintaining and scaling our backend systems Write high quality well tested code to meet the needs of your customers Solve unique and large scale technical problems Builds the next generation of systems to make cryptocurrency data accessible to everyone across the globe at scale on the web and mobile iOS  Android Develop and scale the CoinGecko Data API that currently powers some of the biggest brands in the space Manages infrastructure that is running in the cloud Amazon Web Services  Google Cloud Research and development of decentralized apps Web3 and Solidity smart contracts on the blockchain network  What we look for in you  You have at least 5 years of experience in software engineering Youve designed built scaled and maintained production services You write high quality well tested code to meet the needs of your customers You have keen interest in cryptocurrency blockchain and smart contracts']\n"
     ]
    }
   ],
   "source": [
    "print(process_text(ad))"
   ]
  },
  {
   "cell_type": "code",
   "execution_count": 379,
   "metadata": {},
   "outputs": [
    {
     "name": "stdout",
     "output_type": "stream",
     "text": [
      "\n",
      "CoinGecko is a global leader in tracking cryptocurrency data. Operating since 2014, CoinGecko has built the world's largest cryptocurrency data platform, tracking over 10,000 tokens across more than 400 exchanges, serving over 300 million page views in more than 100 countries. We are proud to have played a major part in mainstream awareness, adoption, and education of cryptocurrency globally.\n",
      "\n",
      "\n",
      "We at CoinGecko believe that cryptocurrency and blockchain will define the future of finance, bringing greater financial and economic freedom around the world. In anticipation of that future, CoinGecko is building the foundation to scale cryptocurrency market data to serve billions.\n",
      "\n",
      "\n",
      "*Please note that this is a remote role for those based in Malaysia or Singapore. If you are based outside of these countries, still feel free to apply and we will review your application.\n",
      "\n",
      "\n",
      "We practice transparent salaries and a level structure at CoinGecko:\n",
      "\n",
      "L1 Salary: RM6,538\n",
      "L2 Salary: RM10,257\n",
      "L3 Salary: RM13,188\n",
      "L4 Salary: RM17,133\n",
      "\n",
      "We are prioritizing hires from L2-L4, but junior candidates are encouraged to apply.\n",
      "\n",
      "\n",
      "Learn more about our level structure at:\n",
      "\n",
      "[https://www.coingecko.com/en/careers/career-progression]\n",
      "\n",
      "\n",
      "We are working on several exciting projects, and each project will require a different set of expertise. A quick overview:\n",
      "\n",
      "Crypto Exchange: Requires graphql, ruby on the backend, and experience working with APIs.\n",
      "Gecko Terminal: Requires react on the frontend, and experience reading Etherscan.\n",
      "Web Development: Requires ruby on the backend.\n",
      "\n",
      "What you'll be doing:\n",
      "\n",
      "Work with our engineering team and product managers to ship products.\n",
      "Articulate a long term vision for maintaining and scaling our backend systems\n",
      "Write high quality, well tested code to meet the needs of your customers.\n",
      "Solve unique and large scale technical problems.\n",
      "Builds the next generation of systems to make cryptocurrency data accessible to everyone across the globe at scale on the web and mobile (iOS & Android).\n",
      "Develop and scale the CoinGecko Data API that currently powers some of the biggest brands in the space.\n",
      "Manages infrastructure that is running in the cloud (Amazon Web Services & Google Cloud).\n",
      "Research and development of decentralized apps, Web3, and Solidity smart contracts on the blockchain network.\n",
      "\n",
      "What we look for in you:\n",
      "\n",
      "You have at least 5 years of experience in software engineering.\n",
      "You’ve designed, built, scaled and maintained production services\n",
      "You write high quality, well tested code to meet the needs of your customers.\n",
      "You have keen interest in cryptocurrency, blockchain, and smart contracts.\n",
      "\n"
     ]
    }
   ],
   "source": [
    "print(ad)"
   ]
  },
  {
   "cell_type": "code",
   "execution_count": 321,
   "metadata": {},
   "outputs": [
    {
     "name": "stdout",
     "output_type": "stream",
     "text": [
      "[' Coursework  Algorithms and Data Structures Object Oriented Programming Software Design andDevelopment Agile Software Projects Advanced Database Techniques Digital Signal Processing IoTMachine Learning and Artificial IntelligenceExperienceSR SOFT', 'ARE DEVELOPER NINDATECH SDN BHD  DEC 2019  PRESENT Planned and executed implementation of a SaaS applications frontendbackend for gamifying HR Created image to text API to significantly decrease users time spent on web forms Improved internal Agile software development with discrete optimisation techniques andincreased sprint completion rate Optimised frontend with caching and architectural improvements cutting down rendering time byan estimated 5  11 overallTechnology stack  ReactJS with Redux ReduxSaga Python Loopback 3  4 PostgreSQL MongoDBCONTRACT DEVELOPER HYRE GROUP LTD  2018  2019 Implemented mobile payment with Braintree Created freelance babysitter marketplace application released to Play Store and App StoreTechnology stack  ReactNative ExpressJS MongoDB Digital OceanCONTRACT LEAD DEVELOPER ONE RELIEF  2018  2019 Implemented platform payment system with Apple Pay Google Pay and Paypal which processedthousands of dollars in donations Implemented a social media sharing feature from a donation page which increased userengagement with the platformTechnology stack  PugJS ExpressJS MongoDB Amazon A', 'SCONTRACT DEVELOPER UDACITY BLITZ  JUNE 2017  DEC 2017 Created an internal video editing application for Android and iOS with ReactNative Rewrote videoediting functions with modules written in C Implemented a serverless API for a book review and recommendation SaaS product deployed toA', 'S Lambda Created an API with Python for a NLP based conversational system serving a Javascript poweredchatbot for automated customer supportTechnology stack  ReactNative Flask Serverless MongoDB Amazon A', 'SPARTTIME CODE MENTOR UDACITY INC JAN 2017  MARCH 2020 Mentored students learning frontend web development mobile development and deep learningTechnology stack  React ReactNative TensorflowPersonal ProjectsIndoor farming  urban IoT vegetable farm with automated lighting irrigation and data collectionHardwaresoftware stack  C Python ESP8266 Raspberry PiSelfdriving robot car  autonomous mapping and navigationHardwaresoftware stack  Python C ROS Nvidia Jetson NanoSkillsSoftware proficient Javascript Python HTML CSS Git familiar C SQL Unix Typescript']\n"
     ]
    }
   ],
   "source": [
    "print(process_text(resume))"
   ]
  },
  {
   "cell_type": "code",
   "execution_count": 336,
   "metadata": {},
   "outputs": [],
   "source": [
    "from sklearn.feature_extraction.text import CountVectorizer"
   ]
  },
  {
   "cell_type": "code",
   "execution_count": 367,
   "metadata": {},
   "outputs": [],
   "source": [
    "ad = \"\"\"\n",
    "CoinGecko is a global leader in tracking cryptocurrency data. Operating since 2014, CoinGecko has built the world's largest cryptocurrency data platform, tracking over 10,000 tokens across more than 400 exchanges, serving over 300 million page views in more than 100 countries. We are proud to have played a major part in mainstream awareness, adoption, and education of cryptocurrency globally.\n",
    "\n",
    "\n",
    "We at CoinGecko believe that cryptocurrency and blockchain will define the future of finance, bringing greater financial and economic freedom around the world. In anticipation of that future, CoinGecko is building the foundation to scale cryptocurrency market data to serve billions.\n",
    "\n",
    "\n",
    "*Please note that this is a remote role for those based in Malaysia or Singapore. If you are based outside of these countries, still feel free to apply and we will review your application.\n",
    "\n",
    "\n",
    "We practice transparent salaries and a level structure at CoinGecko:\n",
    "\n",
    "L1 Salary: RM6,538\n",
    "L2 Salary: RM10,257\n",
    "L3 Salary: RM13,188\n",
    "L4 Salary: RM17,133\n",
    "\n",
    "We are prioritizing hires from L2-L4, but junior candidates are encouraged to apply.\n",
    "\n",
    "\n",
    "Learn more about our level structure at:\n",
    "\n",
    "[https://www.coingecko.com/en/careers/career-progression]\n",
    "\n",
    "\n",
    "We are working on several exciting projects, and each project will require a different set of expertise. A quick overview:\n",
    "\n",
    "Crypto Exchange: Requires graphql, ruby on the backend, and experience working with APIs.\n",
    "Gecko Terminal: Requires react on the frontend, and experience reading Etherscan.\n",
    "Web Development: Requires ruby on the backend.\n",
    "\n",
    "What you'll be doing:\n",
    "\n",
    "Work with our engineering team and product managers to ship products.\n",
    "Articulate a long term vision for maintaining and scaling our backend systems\n",
    "Write high quality, well tested code to meet the needs of your customers.\n",
    "Solve unique and large scale technical problems.\n",
    "Builds the next generation of systems to make cryptocurrency data accessible to everyone across the globe at scale on the web and mobile (iOS & Android).\n",
    "Develop and scale the CoinGecko Data API that currently powers some of the biggest brands in the space.\n",
    "Manages infrastructure that is running in the cloud (Amazon Web Services & Google Cloud).\n",
    "Research and development of decentralized apps, Web3, and Solidity smart contracts on the blockchain network.\n",
    "\n",
    "What we look for in you:\n",
    "\n",
    "You have at least 5 years of experience in software engineering.\n",
    "You’ve designed, built, scaled and maintained production services\n",
    "You write high quality, well tested code to meet the needs of your customers.\n",
    "You have keen interest in cryptocurrency, blockchain, and smart contracts.\n",
    "\"\"\""
   ]
  },
  {
   "cell_type": "code",
   "execution_count": 459,
   "metadata": {},
   "outputs": [],
   "source": [
    "resume = \"\"\"\n",
    "Coursework - Algorithms and Data Structures, Object Oriented Programming, Software Design and\n",
    "Development, Agile Software Projects, Advanced Database Techniques, Digital Signal Processing, IoT,\n",
    "Machine Learning, and Artificial Intelligence.\n",
    "Experience\n",
    "SR. SOFTWARE DEVELOPER, NINDATECH SDN. BHD. — DEC 2019 - PRESENT\n",
    "• Planned and executed implementation of a SaaS application’s frontend/backend for gamifying HR.\n",
    "• Created image to text API to significantly decrease user’s time spent on web forms.\n",
    "• Improved internal Agile software development with discrete optimisation techniques and\n",
    "increased sprint completion rate.\n",
    "• Optimised frontend with caching and architectural improvements, cutting down rendering time by\n",
    "an estimated 5% - 11% overall.\n",
    "Technology stack - ReactJS (with Redux, Redux-Saga), Python, Loopback 3 & 4, PostgreSQL, MongoDB.\n",
    "CONTRACT DEVELOPER, HYRE GROUP LTD. — 2018 - 2019\n",
    "• Implemented mobile payment with Braintree.\n",
    "• Created freelance babysitter marketplace application released to Play Store and App Store..\n",
    "Technology stack - React-Native, ExpressJS, MongoDB, Digital Ocean.\n",
    "CONTRACT LEAD DEVELOPER, ONE RELIEF — 2018 - 2019\n",
    "• Implemented platform payment system with Apple Pay, Google Pay and Paypal which processed\n",
    "thousands of dollars in donations.\n",
    "• Implemented a social media sharing feature from a donation page which increased user\n",
    "engagement with the platform.\n",
    "Technology stack - PugJS, ExpressJS, MongoDB, Amazon AWS.\n",
    "CONTRACT DEVELOPER, UDACITY BLITZ — JUNE 2017 - DEC 2017\n",
    "• Created an internal video editing application for Android and iOS with React-Native. Rewrote video\n",
    "editing functions with modules written in C++.\n",
    "• Implemented a serverless API for a book review and recommendation SaaS product deployed to\n",
    "AWS Lambda.\n",
    "• Created an API with Python for a NLP based conversational system serving a Javascript powered\n",
    "chatbot for automated customer support.\n",
    "Technology stack - React-Native, Flask, Serverless, MongoDB, Amazon AWS.\n",
    "PART-TIME CODE MENTOR, UDACITY INC. JAN 2017 - MARCH 2020\n",
    "• Mentored students learning front-end web development, mobile development and deep learning.\n",
    "Technology stack - React, React-Native, Tensorflow.\n",
    "Personal Projects\n",
    "Indoor farming - urban IoT vegetable farm with automated lighting, irrigation and data collection.\n",
    "Hardware/software stack - C++, Python, ESP8266, Raspberry Pi.\n",
    "Self-driving robot car - autonomous mapping and navigation.\n",
    "Hardware/software stack - Python, C++, ROS, Nvidia Jetson Nano.\n",
    "Skills\n",
    "Software: (proficient): Javascript, Python, HTML, CSS, Git (familiar): C++, SQL, Unix, Typescript\n",
    "\"\"\""
   ]
  },
  {
   "cell_type": "code",
   "execution_count": 460,
   "metadata": {},
   "outputs": [
    {
     "name": "stdout",
     "output_type": "stream",
     "text": [
      "[' CoinGecko is a global leader in tracking cryptocurrency data Operating since 2014 CoinGecko has built the worlds largest cryptocurrency data platform tracking over 10000 tokens across more than 400 exchanges serving over 300 million page views in more than 100 countries We are proud to have played a major part in mainstream awareness adoption and education of cryptocurrency globally   We at CoinGecko believe that cryptocurrency and blockchain will define the future of finance bringing greater financial and economic freedom around the world In anticipation of that future CoinGecko is building the foundation to scale cryptocurrency market data to serve billions   Please note that this is a remote role for those based in Malaysia or Singapore If you are based outside of these countries still feel free to apply and we will review your application   We practice transparent salaries and a level structure at CoinGecko  L1 Salary RM6538 L2 Salary RM10257 L3 Salary RM13188 L4 Salary RM17133  We are prioritizing hires from L2L4 but junior candidates are encouraged to apply   Learn more about our level structure at  httpswwwcoingeckocomencareerscareerprogression   We are working on several exciting projects and each project will require a different set of expertise A quick overview  Crypto Exchange Requires graphql ruby on the backend and experience working with APIs Gecko Terminal Requires react on the frontend and experience reading Etherscan Web Development Requires ruby on the backend  What youll be doing  Work with our engineering team and product managers to ship products Articulate a long term vision for maintaining and scaling our backend systems Write high quality well tested code to meet the needs of your customers Solve unique and large scale technical problems Builds the next generation of systems to make cryptocurrency data accessible to everyone across the globe at scale on the web and mobile iOS  Android Develop and scale the CoinGecko Data API that currently powers some of the biggest brands in the space Manages infrastructure that is running in the cloud Amazon Web Services  Google Cloud Research and development of decentralized apps Web3 and Solidity smart contracts on the blockchain network  What we look for in you  You have at least 5 years of experience in software engineering Youve designed built scaled and maintained production services You write high quality well tested code to meet the needs of your customers You have keen interest in cryptocurrency blockchain and smart contracts']\n"
     ]
    }
   ],
   "source": [
    "print(process_text(ad))"
   ]
  },
  {
   "cell_type": "code",
   "execution_count": 461,
   "metadata": {},
   "outputs": [],
   "source": [
    "text = [\" \".join(process_text(resume)), \"\".join(process_text(ad))]"
   ]
  },
  {
   "cell_type": "code",
   "execution_count": 462,
   "metadata": {},
   "outputs": [],
   "source": [
    "cv = CountVectorizer()\n",
    "count_matrix = cv.fit_transform(text)"
   ]
  },
  {
   "cell_type": "code",
   "execution_count": 463,
   "metadata": {},
   "outputs": [],
   "source": [
    "from sklearn.metrics.pairwise import cosine_similarity"
   ]
  },
  {
   "cell_type": "code",
   "execution_count": 468,
   "metadata": {},
   "outputs": [
    {
     "name": "stdout",
     "output_type": "stream",
     "text": [
      "Cosine Similarity Score:\n",
      "[[1.         0.35162538]\n",
      " [0.35162538 1.        ]]\n"
     ]
    }
   ],
   "source": [
    "print(\"Cosine Similarity Score:\")\n",
    "print(cosine_similarity(count_matrix))"
   ]
  },
  {
   "cell_type": "code",
   "execution_count": 469,
   "metadata": {},
   "outputs": [
    {
     "name": "stdout",
     "output_type": "stream",
     "text": [
      "Resume match with job ad is 35%\n"
     ]
    }
   ],
   "source": [
    "match = round(cosine_similarity(count_matrix)[0][1] * 100)\n",
    "print(\"Resume match with job ad is \"+ str(match) + \"%\")"
   ]
  },
  {
   "cell_type": "code",
   "execution_count": 356,
   "metadata": {},
   "outputs": [
    {
     "name": "stdout",
     "output_type": "stream",
     "text": [
      "19\n"
     ]
    }
   ],
   "source": [
    "print(match)"
   ]
  },
  {
   "cell_type": "code",
   "execution_count": null,
   "metadata": {},
   "outputs": [],
   "source": []
  },
  {
   "cell_type": "code",
   "execution_count": null,
   "metadata": {},
   "outputs": [],
   "source": []
  }
 ],
 "metadata": {
  "kernelspec": {
   "display_name": "Python 3",
   "language": "python",
   "name": "python3"
  },
  "language_info": {
   "codemirror_mode": {
    "name": "ipython",
    "version": 3
   },
   "file_extension": ".py",
   "mimetype": "text/x-python",
   "name": "python",
   "nbconvert_exporter": "python",
   "pygments_lexer": "ipython3",
   "version": "3.8.10"
  }
 },
 "nbformat": 4,
 "nbformat_minor": 4
}
