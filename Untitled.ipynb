{
 "cells": [
  {
   "cell_type": "code",
   "execution_count": 268,
   "metadata": {},
   "outputs": [],
   "source": [
    "import re\n",
    "import string\n",
    "import nltk"
   ]
  },
  {
   "cell_type": "code",
   "execution_count": 472,
   "metadata": {},
   "outputs": [
    {
     "name": "stderr",
     "output_type": "stream",
     "text": [
      "[nltk_data] Downloading package wordnet to\n",
      "[nltk_data]     C:\\Users\\winfr\\AppData\\Roaming\\nltk_data...\n",
      "[nltk_data]   Unzipping corpora\\wordnet.zip.\n"
     ]
    },
    {
     "data": {
      "text/plain": [
       "True"
      ]
     },
     "execution_count": 472,
     "metadata": {},
     "output_type": "execute_result"
    }
   ],
   "source": [
    "nltk.download('wordnet')"
   ]
  },
  {
   "cell_type": "code",
   "execution_count": 499,
   "metadata": {},
   "outputs": [
    {
     "name": "stderr",
     "output_type": "stream",
     "text": [
      "[nltk_data] Downloading package omw-1.4 to\n",
      "[nltk_data]     C:\\Users\\winfr\\AppData\\Roaming\\nltk_data...\n",
      "[nltk_data]   Unzipping corpora\\omw-1.4.zip.\n"
     ]
    },
    {
     "data": {
      "text/plain": [
       "True"
      ]
     },
     "execution_count": 499,
     "metadata": {},
     "output_type": "execute_result"
    }
   ],
   "source": [
    "nltk.download('omw-1.4')"
   ]
  },
  {
   "cell_type": "code",
   "execution_count": 316,
   "metadata": {},
   "outputs": [
    {
     "name": "stdout",
     "output_type": "stream",
     "text": [
      "\n",
      "Remote Senior Backend Engineer Go\n",
      "Our 100% remote team of 400+ CleverPeople are seasoned yet friendly professionals who want to collaborate and welcome you. We have an exciting new opening for a Senior Backend Engineer - Go (Golang).\n",
      "\n",
      "What we're working on: Enterprise companies turn to us to help them launch innovative digital products that interact with hundreds of millions of customers, transactions and data points. The problems we solve every day are real and require creativity, grit and determination. We are building a culture that challenges norms while fostering experimentation and personal growth. In order to grasp the scale of problems we face, ideally, you have some exposure to Logistics, FinTech, Transportation, Insurance, Media or other complex multifactor industries\n",
      "\n",
      "Requirements\n",
      "\n",
      "7+ years of professional experience (A technical assessment will be required)\n",
      "3+ years recent experience developing in Golang\n",
      "Database skills – You understand the use cases for relational and non-relational data, you’ve implemented code against several different database platforms.\n",
      "You are comfortable manipulating large data sets\n",
      "Ability to create clean, modern, testable, well-documented code\n",
      "English fluency, verbal and written\n",
      "Professional, empathic, team player\n",
      "Problem solver, proactive, go-getter\n",
      "\n"
     ]
    }
   ],
   "source": [
    "print(ad)"
   ]
  },
  {
   "cell_type": "code",
   "execution_count": 500,
   "metadata": {},
   "outputs": [
    {
     "name": "stderr",
     "output_type": "stream",
     "text": [
      "[nltk_data] Downloading package stopwords to\n",
      "[nltk_data]     C:\\Users\\winfr\\AppData\\Roaming\\nltk_data...\n",
      "[nltk_data]   Package stopwords is already up-to-date!\n",
      "[nltk_data] Downloading package punkt to\n",
      "[nltk_data]     C:\\Users\\winfr\\AppData\\Roaming\\nltk_data...\n",
      "[nltk_data]   Package punkt is already up-to-date!\n"
     ]
    }
   ],
   "source": [
    "from nltk.stem import WordNetLemmatizer\n",
    "nltk.download('stopwords')\n",
    "nltk.download('punkt')\n",
    "# stopwords = nltk.corpus.stopwords.words('english')\n",
    "from nltk.corpus import stopwords"
   ]
  },
  {
   "cell_type": "code",
   "execution_count": 560,
   "metadata": {},
   "outputs": [],
   "source": [
    "from nltk.stem import WordNetLemmatizer\n",
    "from nltk.tokenize import word_tokenize\n",
    "from pprint import pprint"
   ]
  },
  {
   "cell_type": "code",
   "execution_count": 562,
   "metadata": {},
   "outputs": [
    {
     "name": "stdout",
     "output_type": "stream",
     "text": [
      "{\"'ll\": \"'ll\",\n",
      " 'You': 'You',\n",
      " 'and': 'and',\n",
      " 'assist': 'assist',\n",
      " 'in': 'in',\n",
      " 'issue': 'issues',\n",
      " 'operation': 'operations',\n",
      " 'our': 'our',\n",
      " 'production': 'production',\n",
      " 'resolving': 'resolving',\n",
      " 'skilled': 'skilled',\n",
      " 'support': 'support',\n",
      " 'team': 'team',\n",
      " 'triaging': 'triaging'}\n"
     ]
    }
   ],
   "source": [
    "lemmatizer = WordNetLemmatizer()\n",
    "text = \"You'll assist our skilled support team and operations team in triaging and resolving production issues\"\n",
    "\n",
    "def lemmetize_print(words):\n",
    "     a = []\n",
    "     tokens = word_tokenize(words)\n",
    "     for token in tokens:\n",
    "          lemmetized_word = lemmatizer.lemmatize(token)\n",
    "          a.append(lemmetized_word)\n",
    "     pprint({a[i] : tokens[i] for i in range(len(a))}, indent = 1, depth=5)\n",
    "\n",
    "lemmetize_print(\"You'll assist our skilled support team and operations team in triaging and resolving production issues\")"
   ]
  },
  {
   "cell_type": "code",
   "execution_count": 579,
   "metadata": {},
   "outputs": [],
   "source": [
    "punctuation = string.punctuation + \"'\"\n",
    "lemmatizer = WordNetLemmatizer()\n",
    "def remove_punctuation(text):\n",
    "    res = re.sub(r'[^\\w\\s]', '', text)\n",
    "    return res\n",
    "def tokenization(text):\n",
    "#     res = re.split('W+',text)\n",
    "#     res = [x.replace('\\n','') for x in res]\n",
    "    res = nltk.word_tokenize(text)\n",
    "    return res\n",
    "def remove_stopwords(text):\n",
    "    return [word for word in text if not word in stopwords.words()]\n",
    "def lemmatizer_func(text):\n",
    "#     test = lemmatizer.lemmatize(\"bats\")\n",
    "#     for word in text:\n",
    "#         lemmatizer.lemmatize(word)\n",
    "#     print(text)\n",
    "    res = [lemmatizer.lemmatize(word) for word in text]\n",
    "    return res"
   ]
  },
  {
   "cell_type": "code",
   "execution_count": 580,
   "metadata": {},
   "outputs": [],
   "source": [
    "def process_text(text):\n",
    "    text = remove_punctuation(text)\n",
    "    text = text.replace(\"\\n\", \" \")\n",
    "    text = tokenization(text)\n",
    "    text = lemmatizer_func(text)\n",
    "    text = remove_stopwords(text)\n",
    "\n",
    "    return text"
   ]
  },
  {
   "cell_type": "code",
   "execution_count": 581,
   "metadata": {},
   "outputs": [
    {
     "name": "stdout",
     "output_type": "stream",
     "text": [
      "['CoinGecko', 'global', 'leader', 'tracking', 'cryptocurrency', 'data', 'Operating', 'since', '2014', 'CoinGecko', 'built', 'world', 'largest', 'cryptocurrency', 'data', 'platform', 'tracking', '10000', 'token', 'across', '400', 'exchange', 'serving', '300', 'million', 'page', 'view', '100', 'country', 'We', 'proud', 'played', 'major', 'part', 'mainstream', 'awareness', 'adoption', 'education', 'cryptocurrency', 'globally', 'We', 'CoinGecko', 'believe', 'cryptocurrency', 'blockchain', 'define', 'future', 'finance', 'bringing', 'greater', 'financial', 'economic', 'freedom', 'around', 'world', 'In', 'anticipation', 'future', 'CoinGecko', 'building', 'foundation', 'scale', 'cryptocurrency', 'market', 'data', 'serve', 'billion', 'Please', 'note', 'remote', 'role', 'based', 'Malaysia', 'Singapore', 'If', 'based', 'outside', 'country', 'still', 'feel', 'free', 'apply', 'review', 'application', 'We', 'practice', 'transparent', 'salary', 'level', 'structure', 'CoinGecko', 'L1', 'Salary', 'RM6538', 'L2', 'Salary', 'RM10257', 'L3', 'Salary', 'RM13188', 'L4', 'Salary', 'RM17133', 'We', 'prioritizing', 'hire', 'L2L4', 'junior', 'candidate', 'encouraged', 'apply', 'Learn', 'level', 'structure', 'httpswwwcoingeckocomencareerscareerprogression', 'We', 'working', 'several', 'exciting', 'project', 'project', 'require', 'different', 'set', 'expertise', 'A', 'quick', 'overview', 'Crypto', 'Exchange', 'Requires', 'graphql', 'ruby', 'backend', 'experience', 'working', 'APIs', 'Gecko', 'Terminal', 'Requires', 'react', 'frontend', 'experience', 'reading', 'Etherscan', 'Web', 'Development', 'Requires', 'ruby', 'backend', 'What', 'youll', 'Work', 'engineering', 'team', 'product', 'manager', 'ship', 'product', 'Articulate', 'long', 'term', 'vision', 'maintaining', 'scaling', 'backend', 'system', 'Write', 'high', 'quality', 'well', 'tested', 'code', 'meet', 'need', 'customer', 'Solve', 'unique', 'large', 'scale', 'technical', 'problem', 'Builds', 'next', 'generation', 'system', 'make', 'cryptocurrency', 'data', 'accessible', 'everyone', 'across', 'globe', 'scale', 'web', 'mobile', 'iOS', 'Android', 'Develop', 'scale', 'CoinGecko', 'Data', 'API', 'currently', 'power', 'biggest', 'brand', 'space', 'Manages', 'infrastructure', 'running', 'cloud', 'Amazon', 'Web', 'Services', 'Google', 'Cloud', 'Research', 'development', 'decentralized', 'apps', 'Web3', 'Solidity', 'smart', 'contract', 'blockchain', 'network', 'What', 'look', 'You', 'least', '5', 'year', 'experience', 'software', 'engineering', 'Youve', 'designed', 'built', 'scaled', 'maintained', 'production', 'service', 'You', 'write', 'high', 'quality', 'well', 'tested', 'code', 'meet', 'need', 'customer', 'You', 'keen', 'interest', 'cryptocurrency', 'blockchain', 'smart', 'contract']\n"
     ]
    }
   ],
   "source": [
    "print(process_text(ad))"
   ]
  },
  {
   "cell_type": "code",
   "execution_count": 379,
   "metadata": {},
   "outputs": [
    {
     "name": "stdout",
     "output_type": "stream",
     "text": [
      "\n",
      "CoinGecko is a global leader in tracking cryptocurrency data. Operating since 2014, CoinGecko has built the world's largest cryptocurrency data platform, tracking over 10,000 tokens across more than 400 exchanges, serving over 300 million page views in more than 100 countries. We are proud to have played a major part in mainstream awareness, adoption, and education of cryptocurrency globally.\n",
      "\n",
      "\n",
      "We at CoinGecko believe that cryptocurrency and blockchain will define the future of finance, bringing greater financial and economic freedom around the world. In anticipation of that future, CoinGecko is building the foundation to scale cryptocurrency market data to serve billions.\n",
      "\n",
      "\n",
      "*Please note that this is a remote role for those based in Malaysia or Singapore. If you are based outside of these countries, still feel free to apply and we will review your application.\n",
      "\n",
      "\n",
      "We practice transparent salaries and a level structure at CoinGecko:\n",
      "\n",
      "L1 Salary: RM6,538\n",
      "L2 Salary: RM10,257\n",
      "L3 Salary: RM13,188\n",
      "L4 Salary: RM17,133\n",
      "\n",
      "We are prioritizing hires from L2-L4, but junior candidates are encouraged to apply.\n",
      "\n",
      "\n",
      "Learn more about our level structure at:\n",
      "\n",
      "[https://www.coingecko.com/en/careers/career-progression]\n",
      "\n",
      "\n",
      "We are working on several exciting projects, and each project will require a different set of expertise. A quick overview:\n",
      "\n",
      "Crypto Exchange: Requires graphql, ruby on the backend, and experience working with APIs.\n",
      "Gecko Terminal: Requires react on the frontend, and experience reading Etherscan.\n",
      "Web Development: Requires ruby on the backend.\n",
      "\n",
      "What you'll be doing:\n",
      "\n",
      "Work with our engineering team and product managers to ship products.\n",
      "Articulate a long term vision for maintaining and scaling our backend systems\n",
      "Write high quality, well tested code to meet the needs of your customers.\n",
      "Solve unique and large scale technical problems.\n",
      "Builds the next generation of systems to make cryptocurrency data accessible to everyone across the globe at scale on the web and mobile (iOS & Android).\n",
      "Develop and scale the CoinGecko Data API that currently powers some of the biggest brands in the space.\n",
      "Manages infrastructure that is running in the cloud (Amazon Web Services & Google Cloud).\n",
      "Research and development of decentralized apps, Web3, and Solidity smart contracts on the blockchain network.\n",
      "\n",
      "What we look for in you:\n",
      "\n",
      "You have at least 5 years of experience in software engineering.\n",
      "You’ve designed, built, scaled and maintained production services\n",
      "You write high quality, well tested code to meet the needs of your customers.\n",
      "You have keen interest in cryptocurrency, blockchain, and smart contracts.\n",
      "\n"
     ]
    }
   ],
   "source": [
    "print(ad)"
   ]
  },
  {
   "cell_type": "code",
   "execution_count": 321,
   "metadata": {},
   "outputs": [
    {
     "name": "stdout",
     "output_type": "stream",
     "text": [
      "[' Coursework  Algorithms and Data Structures Object Oriented Programming Software Design andDevelopment Agile Software Projects Advanced Database Techniques Digital Signal Processing IoTMachine Learning and Artificial IntelligenceExperienceSR SOFT', 'ARE DEVELOPER NINDATECH SDN BHD  DEC 2019  PRESENT Planned and executed implementation of a SaaS applications frontendbackend for gamifying HR Created image to text API to significantly decrease users time spent on web forms Improved internal Agile software development with discrete optimisation techniques andincreased sprint completion rate Optimised frontend with caching and architectural improvements cutting down rendering time byan estimated 5  11 overallTechnology stack  ReactJS with Redux ReduxSaga Python Loopback 3  4 PostgreSQL MongoDBCONTRACT DEVELOPER HYRE GROUP LTD  2018  2019 Implemented mobile payment with Braintree Created freelance babysitter marketplace application released to Play Store and App StoreTechnology stack  ReactNative ExpressJS MongoDB Digital OceanCONTRACT LEAD DEVELOPER ONE RELIEF  2018  2019 Implemented platform payment system with Apple Pay Google Pay and Paypal which processedthousands of dollars in donations Implemented a social media sharing feature from a donation page which increased userengagement with the platformTechnology stack  PugJS ExpressJS MongoDB Amazon A', 'SCONTRACT DEVELOPER UDACITY BLITZ  JUNE 2017  DEC 2017 Created an internal video editing application for Android and iOS with ReactNative Rewrote videoediting functions with modules written in C Implemented a serverless API for a book review and recommendation SaaS product deployed toA', 'S Lambda Created an API with Python for a NLP based conversational system serving a Javascript poweredchatbot for automated customer supportTechnology stack  ReactNative Flask Serverless MongoDB Amazon A', 'SPARTTIME CODE MENTOR UDACITY INC JAN 2017  MARCH 2020 Mentored students learning frontend web development mobile development and deep learningTechnology stack  React ReactNative TensorflowPersonal ProjectsIndoor farming  urban IoT vegetable farm with automated lighting irrigation and data collectionHardwaresoftware stack  C Python ESP8266 Raspberry PiSelfdriving robot car  autonomous mapping and navigationHardwaresoftware stack  Python C ROS Nvidia Jetson NanoSkillsSoftware proficient Javascript Python HTML CSS Git familiar C SQL Unix Typescript']\n"
     ]
    }
   ],
   "source": [
    "print(process_text(resume))"
   ]
  },
  {
   "cell_type": "code",
   "execution_count": 336,
   "metadata": {},
   "outputs": [],
   "source": [
    "from sklearn.feature_extraction.text import CountVectorizer"
   ]
  },
  {
   "cell_type": "code",
   "execution_count": 624,
   "metadata": {},
   "outputs": [],
   "source": [
    "ad = \"\"\"\n",
    "CoinGecko is a global leader in tracking cryptocurrency data. Operating since 2014, CoinGecko has built the world's largest cryptocurrency data platform, tracking over 10,000 tokens across more than 400 exchanges, serving over 300 million page views in more than 100 countries. We are proud to have played a major part in mainstream awareness, adoption, and education of cryptocurrency globally.\n",
    "\n",
    "\n",
    "We at CoinGecko believe that cryptocurrency and blockchain will define the future of finance, bringing greater financial and economic freedom around the world. In anticipation of that future, CoinGecko is building the foundation to scale cryptocurrency market data to serve billions.\n",
    "\n",
    "\n",
    "*Please note that this is a remote role for those based in Malaysia or Singapore. If you are based outside of these countries, still feel free to apply and we will review your application.\n",
    "\n",
    "\n",
    "We practice transparent salaries and a level structure at CoinGecko:\n",
    "\n",
    "L1 Salary: RM6,538\n",
    "L2 Salary: RM10,257\n",
    "L3 Salary: RM13,188\n",
    "L4 Salary: RM17,133\n",
    "\n",
    "We are prioritizing hires from L2-L4, but junior candidates are encouraged to apply.\n",
    "\n",
    "\n",
    "Learn more about our level structure at:\n",
    "\n",
    "[https://www.coingecko.com/en/careers/career-progression]\n",
    "\n",
    "\n",
    "We are working on several exciting projects, and each project will require a different set of expertise. A quick overview:\n",
    "\n",
    "Crypto Exchange: Requires graphql, ruby on the backend, and experience working with APIs.\n",
    "Gecko Terminal: Requires react on the frontend, and experience reading Etherscan.\n",
    "Web Development: Requires ruby on the backend.\n",
    "\n",
    "What you'll be doing:\n",
    "\n",
    "Work with our engineering team and product managers to ship products.\n",
    "Articulate a long term vision for maintaining and scaling our backend systems\n",
    "Write high quality, well tested code to meet the needs of your customers.\n",
    "Solve unique and large scale technical problems.\n",
    "Builds the next generation of systems to make cryptocurrency data accessible to everyone across the globe at scale on the web and mobile (iOS & Android).\n",
    "Develop and scale the CoinGecko Data API that currently powers some of the biggest brands in the space.\n",
    "Manages infrastructure that is running in the cloud (Amazon Web Services & Google Cloud).\n",
    "Research and development of decentralized apps, Web3, and Solidity smart contracts on the blockchain network.\n",
    "\n",
    "What we look for in you:\n",
    "\n",
    "You have at least 5 years of experience in software engineering.\n",
    "You’ve designed, built, scaled and maintained production services\n",
    "You write high quality, well tested code to meet the needs of your customers.\n",
    "You have keen interest in cryptocurrency, blockchain, and smart contracts.\n",
    "\"\"\""
   ]
  },
  {
   "cell_type": "code",
   "execution_count": 625,
   "metadata": {},
   "outputs": [],
   "source": [
    "resume = \"\"\"\n",
    "Coursework - Algorithms and Data Structures, Object Oriented Programming, Software Design and\n",
    "Development, Agile Software Projects, Advanced Database Techniques, Digital Signal Processing, IoT,\n",
    "Machine Learning, and Artificial Intelligence.\n",
    "Experience\n",
    "SR. SOFTWARE DEVELOPER, NINDATECH SDN. BHD. — DEC 2019 - PRESENT\n",
    "• Planned and executed implementation of a SaaS application’s frontend/backend for gamifying HR.\n",
    "• Created image to text API to significantly decrease user’s time spent on web forms.\n",
    "• Improved internal Agile software development with discrete optimisation techniques and\n",
    "increased sprint completion rate.\n",
    "• Optimised frontend with caching and architectural improvements, cutting down rendering time by\n",
    "an estimated 5% - 11% overall.\n",
    "Technology stack - ReactJS (with Redux, Redux-Saga), Python, Loopback 3 & 4, PostgreSQL, MongoDB.\n",
    "CONTRACT DEVELOPER, HYRE GROUP LTD. — 2018 - 2019\n",
    "• Implemented mobile payment with Braintree.\n",
    "• Created freelance babysitter marketplace application released to Play Store and App Store..\n",
    "Technology stack - React-Native, ExpressJS, MongoDB, Digital Ocean.\n",
    "CONTRACT LEAD DEVELOPER, ONE RELIEF — 2018 - 2019\n",
    "• Implemented platform payment system with Apple Pay, Google Pay and Paypal which processed\n",
    "thousands of dollars in donations.\n",
    "• Implemented a social media sharing feature from a donation page which increased user\n",
    "engagement with the platform.\n",
    "Technology stack - PugJS, ExpressJS, MongoDB, Amazon AWS.\n",
    "CONTRACT DEVELOPER, UDACITY BLITZ — JUNE 2017 - DEC 2017\n",
    "• Created an internal video editing application for Android and iOS with React-Native. Rewrote video\n",
    "editing functions with modules written in C++.\n",
    "• Implemented a serverless API for a book review and recommendation SaaS product deployed to\n",
    "AWS Lambda.\n",
    "• Created an API with Python for a NLP based conversational system serving a Javascript powered\n",
    "chatbot for automated customer support.\n",
    "Technology stack - React-Native, Flask, Serverless, MongoDB, Amazon AWS.\n",
    "PART-TIME CODE MENTOR, UDACITY INC. JAN 2017 - MARCH 2020\n",
    "• Mentored students learning front-end web development, mobile development and deep learning.\n",
    "Technology stack - React, React-Native, Tensorflow.\n",
    "Personal Projects\n",
    "Indoor farming - urban IoT vegetable farm with automated lighting, irrigation and data collection.\n",
    "Hardware/software stack - C++, Python, ESP8266, Raspberry Pi.\n",
    "Self-driving robot car - autonomous mapping and navigation.\n",
    "Hardware/software stack - Python, C++, ROS, Nvidia Jetson Nano.\n",
    "Skills\n",
    "Software: (proficient): Javascript, Python, HTML, CSS, Git (familiar): C++, SQL, Unix, Typescript\n",
    "cryptocurrency API ruby token data platform articulate ios android etherscan\n",
    "\"\"\""
   ]
  },
  {
   "cell_type": "code",
   "execution_count": 626,
   "metadata": {},
   "outputs": [],
   "source": [
    "# print(process_text(ad))"
   ]
  },
  {
   "cell_type": "code",
   "execution_count": 627,
   "metadata": {},
   "outputs": [],
   "source": [
    "text = [\" \".join(process_text(resume)), \"\".join(process_text(ad))]"
   ]
  },
  {
   "cell_type": "code",
   "execution_count": 628,
   "metadata": {},
   "outputs": [],
   "source": [
    "cv = CountVectorizer()\n",
    "count_matrix = cv.fit_transform(text)"
   ]
  },
  {
   "cell_type": "code",
   "execution_count": 629,
   "metadata": {},
   "outputs": [],
   "source": [
    "from sklearn.metrics.pairwise import cosine_similarity"
   ]
  },
  {
   "cell_type": "code",
   "execution_count": 630,
   "metadata": {},
   "outputs": [
    {
     "name": "stdout",
     "output_type": "stream",
     "text": [
      "Cosine Similarity Score:\n",
      "[[1. 1.]\n",
      " [1. 1.]]\n"
     ]
    }
   ],
   "source": [
    "print(\"Cosine Similarity Score:\")\n",
    "print(cosine_similarity(count_matrix))"
   ]
  },
  {
   "cell_type": "code",
   "execution_count": 631,
   "metadata": {},
   "outputs": [
    {
     "name": "stdout",
     "output_type": "stream",
     "text": [
      "Resume match with job ad is 100%\n"
     ]
    }
   ],
   "source": [
    "match = round(cosine_similarity(count_matrix)[0][1] * 100)\n",
    "print(\"Resume match with job ad is \"+ str(match) + \"%\")"
   ]
  },
  {
   "cell_type": "code",
   "execution_count": 478,
   "metadata": {},
   "outputs": [
    {
     "name": "stdout",
     "output_type": "stream",
     "text": [
      "35\n"
     ]
    }
   ],
   "source": [
    "print(match)"
   ]
  },
  {
   "cell_type": "code",
   "execution_count": 609,
   "metadata": {},
   "outputs": [
    {
     "name": "stdout",
     "output_type": "stream",
     "text": [
      "Coursework Algorithms Data Structures Object Oriented Programming Software Design Development Agile Software Projects Advanced Database Techniques Digital Signal Processing IoT Machine Learning Artificial Intelligence Experience SR SOFTWARE DEVELOPER NINDATECH SDN BHD DEC 2019 PRESENT Planned executed implementation SaaS application frontendbackend gamifying HR Created image text API significantly decrease user time spent web form Improved internal Agile software development discrete optimisation technique increased sprint completion rate Optimised frontend caching architectural improvement cutting rendering time estimated 5 11 overall Technology stack ReactJS Redux ReduxSaga Python Loopback 3 4 PostgreSQL MongoDB CONTRACT DEVELOPER HYRE GROUP LTD 2018 2019 Implemented mobile payment Braintree Created freelance babysitter marketplace application released Play Store App Store Technology stack ReactNative ExpressJS MongoDB Digital Ocean CONTRACT LEAD DEVELOPER ONE RELIEF 2018 2019 Implemented platform payment system Apple Pay Google Pay Paypal processed thousand dollar donation Implemented social medium sharing feature donation page increased user engagement platform Technology stack PugJS ExpressJS MongoDB Amazon AWS CONTRACT DEVELOPER UDACITY BLITZ JUNE 2017 DEC 2017 Created internal video editing application Android iOS ReactNative Rewrote video editing function module written C Implemented serverless API book review recommendation SaaS product deployed AWS Lambda Created API Python NLP based conversational system serving Javascript powered chatbot automated customer support Technology stack ReactNative Flask Serverless MongoDB Amazon AWS PARTTIME CODE MENTOR UDACITY INC JAN 2017 MARCH 2020 Mentored student learning frontend web development mobile development deep learning Technology stack React ReactNative Tensorflow Personal Projects Indoor farming urban IoT vegetable farm automated lighting irrigation data collection Hardwaresoftware stack C Python ESP8266 Raspberry Pi Selfdriving robot car autonomous mapping navigation Hardwaresoftware stack Python C ROS Nvidia Jetson Nano Skills Software proficient Javascript Python HTML CSS Git familiar C SQL Unix Typescript cryptocurrency API ruby token data platform\n"
     ]
    }
   ],
   "source": [
    "print(\" \".join(process_text(resume)))"
   ]
  },
  {
   "cell_type": "code",
   "execution_count": 588,
   "metadata": {},
   "outputs": [
    {
     "name": "stdout",
     "output_type": "stream",
     "text": [
      "['CoinGecko', 'global', 'leader', 'tracking', 'cryptocurrency', 'data', 'Operating', 'since', '2014', 'CoinGecko', 'built', 'world', 'largest', 'cryptocurrency', 'data', 'platform', 'tracking', '10000', 'token', 'across', '400', 'exchange', 'serving', '300', 'million', 'page', 'view', '100', 'country', 'We', 'proud', 'played', 'major', 'part', 'mainstream', 'awareness', 'adoption', 'education', 'cryptocurrency', 'globally', 'We', 'CoinGecko', 'believe', 'cryptocurrency', 'blockchain', 'define', 'future', 'finance', 'bringing', 'greater', 'financial', 'economic', 'freedom', 'around', 'world', 'In', 'anticipation', 'future', 'CoinGecko', 'building', 'foundation', 'scale', 'cryptocurrency', 'market', 'data', 'serve', 'billion', 'Please', 'note', 'remote', 'role', 'based', 'Malaysia', 'Singapore', 'If', 'based', 'outside', 'country', 'still', 'feel', 'free', 'apply', 'review', 'application', 'We', 'practice', 'transparent', 'salary', 'level', 'structure', 'CoinGecko', 'L1', 'Salary', 'RM6538', 'L2', 'Salary', 'RM10257', 'L3', 'Salary', 'RM13188', 'L4', 'Salary', 'RM17133', 'We', 'prioritizing', 'hire', 'L2L4', 'junior', 'candidate', 'encouraged', 'apply', 'Learn', 'level', 'structure', 'httpswwwcoingeckocomencareerscareerprogression', 'We', 'working', 'several', 'exciting', 'project', 'project', 'require', 'different', 'set', 'expertise', 'A', 'quick', 'overview', 'Crypto', 'Exchange', 'Requires', 'graphql', 'ruby', 'backend', 'experience', 'working', 'APIs', 'Gecko', 'Terminal', 'Requires', 'react', 'frontend', 'experience', 'reading', 'Etherscan', 'Web', 'Development', 'Requires', 'ruby', 'backend', 'What', 'youll', 'Work', 'engineering', 'team', 'product', 'manager', 'ship', 'product', 'Articulate', 'long', 'term', 'vision', 'maintaining', 'scaling', 'backend', 'system', 'Write', 'high', 'quality', 'well', 'tested', 'code', 'meet', 'need', 'customer', 'Solve', 'unique', 'large', 'scale', 'technical', 'problem', 'Builds', 'next', 'generation', 'system', 'make', 'cryptocurrency', 'data', 'accessible', 'everyone', 'across', 'globe', 'scale', 'web', 'mobile', 'iOS', 'Android', 'Develop', 'scale', 'CoinGecko', 'Data', 'API', 'currently', 'power', 'biggest', 'brand', 'space', 'Manages', 'infrastructure', 'running', 'cloud', 'Amazon', 'Web', 'Services', 'Google', 'Cloud', 'Research', 'development', 'decentralized', 'apps', 'Web3', 'Solidity', 'smart', 'contract', 'blockchain', 'network', 'What', 'look', 'You', 'least', '5', 'year', 'experience', 'software', 'engineering', 'Youve', 'designed', 'built', 'scaled', 'maintained', 'production', 'service', 'You', 'write', 'high', 'quality', 'well', 'tested', 'code', 'meet', 'need', 'customer', 'You', 'keen', 'interest', 'cryptocurrency', 'blockchain', 'smart', 'contract']\n"
     ]
    }
   ],
   "source": [
    "print(process_text(ad))"
   ]
  },
  {
   "cell_type": "code",
   "execution_count": null,
   "metadata": {},
   "outputs": [],
   "source": []
  }
 ],
 "metadata": {
  "kernelspec": {
   "display_name": "Python 3",
   "language": "python",
   "name": "python3"
  },
  "language_info": {
   "codemirror_mode": {
    "name": "ipython",
    "version": 3
   },
   "file_extension": ".py",
   "mimetype": "text/x-python",
   "name": "python",
   "nbconvert_exporter": "python",
   "pygments_lexer": "ipython3",
   "version": "3.8.10"
  }
 },
 "nbformat": 4,
 "nbformat_minor": 4
}
