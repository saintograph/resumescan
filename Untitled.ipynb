{
 "cells": [
  {
   "cell_type": "code",
   "execution_count": 1,
   "metadata": {},
   "outputs": [],
   "source": [
    "import re\n",
    "import string\n",
    "import nltk\n",
    "from gensim import corpora, models, similarities"
   ]
  },
  {
   "cell_type": "code",
   "execution_count": 472,
   "metadata": {},
   "outputs": [
    {
     "name": "stderr",
     "output_type": "stream",
     "text": [
      "[nltk_data] Downloading package wordnet to\n",
      "[nltk_data]     C:\\Users\\winfr\\AppData\\Roaming\\nltk_data...\n",
      "[nltk_data]   Unzipping corpora\\wordnet.zip.\n"
     ]
    },
    {
     "data": {
      "text/plain": [
       "True"
      ]
     },
     "execution_count": 472,
     "metadata": {},
     "output_type": "execute_result"
    }
   ],
   "source": [
    "nltk.download('wordnet')"
   ]
  },
  {
   "cell_type": "code",
   "execution_count": 499,
   "metadata": {},
   "outputs": [
    {
     "name": "stderr",
     "output_type": "stream",
     "text": [
      "[nltk_data] Downloading package omw-1.4 to\n",
      "[nltk_data]     C:\\Users\\winfr\\AppData\\Roaming\\nltk_data...\n",
      "[nltk_data]   Unzipping corpora\\omw-1.4.zip.\n"
     ]
    },
    {
     "data": {
      "text/plain": [
       "True"
      ]
     },
     "execution_count": 499,
     "metadata": {},
     "output_type": "execute_result"
    }
   ],
   "source": [
    "nltk.download('omw-1.4')"
   ]
  },
  {
   "cell_type": "code",
   "execution_count": 3,
   "metadata": {},
   "outputs": [],
   "source": [
    "ad = \"\"\"\n",
    "Develop & Maintain Web / Mobile Application\n",
    "Translating requirement and mock up into fully functioning feature\n",
    "Frontend and backend development outlined in defined technical instructions and specifications for systems and applications\n",
    "Build/integrate web API/webhooks\n",
    "Coordinate tests with end users\n",
    "Write/rewrite code in reusable and maintainable way\n",
    "\n",
    "Requirements\n",
    "\n",
    "Expertise in HTML, CSS, JavaScript (ES6) & MySQL.\n",
    "Expertise in NodeJS.\n",
    "Expertise in React, NextJS Framework.\n",
    "Experience in writing RESTful API.\n",
    "Familiar with TypeScript.\n",
    "Familiar with Git version control.\n",
    "Having experience in RWD development.\n",
    "Willing to learn and embrace new technologies, strong communication skills.\n",
    "Write/rewrite code in reusable and maintainable way.\n",
    "1 - 3 years experience\n",
    "Required language(s): English, Mandarin.\n",
    "\n",
    "\"\"\""
   ]
  },
  {
   "cell_type": "code",
   "execution_count": 28,
   "metadata": {},
   "outputs": [],
   "source": [
    "resume = \"\"\"\n",
    "\n",
    "Coursework - Algorithms and Data Structures, Object Oriented Programming, Software Design and\n",
    "Development, Agile Software Projects, Advanced Database Techniques, Digital Signal Processing, IoT,\n",
    "Machine Learning, and Artificial Intelligence.\n",
    "Experience\n",
    "Senior SOFTWARE DEVELOPER, NINDATECH SDN. BHD. — DEC 2019 - PRESENT\n",
    "• Planned and executed implementation of a SaaS application’s frontend/backend for gamifying HR.\\\n",
    "* built large datasets\n",
    "* worked with non-relational databases Postgresql\n",
    "• Created image to text API to significantly decrease user’s time spent on web forms.\n",
    "• Improved internal Agile software development with discrete optimisation techniques and\n",
    "increased sprint completion rate.\n",
    "Optimised frontend with caching and architectural improvements, cutting down rendering time by\n",
    "an estimated 5% - 11% overall.\n",
    "7+ years of professional experience (A technical assessment will be required)\n",
    "3+ years recent experience developing in Golang\n",
    "Database skills – You understand the use cases for relational and non-relational data, you’ve implemented code against several different database platforms.\n",
    "You are comfortable manipulating large data sets\n",
    "Ability to create clean, modern, testable, well-documented code\n",
    "English fluency, verbal and written\n",
    "Professional, empathic, team player\n",
    "Problem solver, proactive, go-getter\n",
    "Technology stack - ReactJS (with Redux, Redux-Saga), Python, Loopback 3 & 4, PostgreSQL, MongoDB.\n",
    "CONTRACT DEVELOPER, HYRE GROUP LTD. — 2018 - 2019\n",
    "Implemented mobile payment with Braintree.\n",
    "Created freelance babysitter marketplace application released to Play Store and App Store..\n",
    "Technology stack - React-Native, ExpressJS, MongoDB, Digital Ocean.\n",
    "CONTRACT LEAD DEVELOPER, ONE RELIEF — 2018 - 2019\n",
    "Implemented platform payment system with Apple Pay, Google Pay and Paypal which processed\n",
    "thousands of dollars in donations.\n",
    "Implemented a social media sharing feature from a donation page which increased user\n",
    "engagement with the platform.\n",
    "Technology stack - PugJS, ExpressJS, MongoDB, Amazon AWS.\n",
    "CONTRACT DEVELOPER, UDACITY BLITZ — JUNE 2017 - DEC 2017\n",
    "Created an internal video editing application for Android and iOS with React-Native. Rewrote video\n",
    "editing functions with modules written in C++.\n",
    "Implemented a serverless API for a book review and recommendation SaaS product deployed to\n",
    "AWS Lambda.\n",
    "Created an API with Python for a NLP based conversational system serving a Javascript powered\n",
    "chatbot for automated customer support.\n",
    "Technology stack - React-Native, Flask, Serverless, MongoDB, Amazon AWS.\n",
    "PART-TIME CODE MENTOR, UDACITY INC. JAN 2017 - MARCH 2020\n",
    "Mentored students learning front-end web development, mobile development and deep learning.\n",
    "Technology stack - React, React-Native, Tensorflow.\n",
    "Personal Projects\n",
    "Indoor farming - urban IoT vegetable farm with automated lighting, irrigation and data collection.\n",
    "Hardware/software stack - C++, Python, ESP8266, Raspberry Pi.\n",
    "Self-driving robot car - autonomous mapping and navigation.\n",
    "Hardware/software stack - Python, C++, ROS, Nvidia Jetson Nano.\n",
    "Skills\n",
    "Software: (proficient): Javascript, Python, HTML, CSS, Git (familiar): C++, SQL, Unix, Typescript\n",
    "\"\"\""
   ]
  },
  {
   "cell_type": "code",
   "execution_count": 5,
   "metadata": {},
   "outputs": [
    {
     "name": "stderr",
     "output_type": "stream",
     "text": [
      "[nltk_data] Downloading package stopwords to\n",
      "[nltk_data]     C:\\Users\\winfr\\AppData\\Roaming\\nltk_data...\n",
      "[nltk_data]   Package stopwords is already up-to-date!\n",
      "[nltk_data] Downloading package punkt to\n",
      "[nltk_data]     C:\\Users\\winfr\\AppData\\Roaming\\nltk_data...\n",
      "[nltk_data]   Package punkt is already up-to-date!\n"
     ]
    }
   ],
   "source": [
    "from nltk.stem import WordNetLemmatizer\n",
    "nltk.download('stopwords')\n",
    "nltk.download('punkt')\n",
    "# stopwords = nltk.corpus.stopwords.words('english')\n",
    "from nltk.corpus import stopwords"
   ]
  },
  {
   "cell_type": "code",
   "execution_count": 6,
   "metadata": {},
   "outputs": [],
   "source": [
    "from nltk.stem import WordNetLemmatizer\n",
    "from nltk.tokenize import word_tokenize\n",
    "from pprint import pprint"
   ]
  },
  {
   "cell_type": "code",
   "execution_count": 7,
   "metadata": {},
   "outputs": [],
   "source": [
    "# lemmatizer = WordNetLemmatizer()\n",
    "# text = \"You'll assist our skilled support team and operations team in triaging and resolving production issues\"\n",
    "\n",
    "# def lemmetize_print(words):\n",
    "#      a = []\n",
    "#      tokens = word_tokenize(words)\n",
    "#      for token in tokens:\n",
    "#           lemmetized_word = lemmatizer.lemmatize(token)\n",
    "#           a.append(lemmetized_word)\n",
    "#      pprint({a[i] : tokens[i] for i in range(len(a))}, indent = 1, depth=5)\n",
    "\n",
    "# lemmetize_print(\"You'll assist our skilled support team and operations team in triaging and resolving production issues\")"
   ]
  },
  {
   "cell_type": "code",
   "execution_count": 47,
   "metadata": {},
   "outputs": [],
   "source": [
    "punctuation = string.punctuation + \"'\"\n",
    "lemmatizer = WordNetLemmatizer()\n",
    "def remove_punctuation(text):\n",
    "    res = re.sub(r'[^\\w\\s]', '', text)\n",
    "    return res\n",
    "def tokenization(text):\n",
    "#     res = re.split('W+',text)\n",
    "#     res = [x.replace('\\n','') for x in res]\n",
    "    res = nltk.sent_tokenize(text)\n",
    "    return res\n",
    "def remove_stopwords(text):\n",
    "    return [word for word in text if not word in stopwords.words()]\n",
    "def lemmatizer_func(text):\n",
    "#     test = lemmatizer.lemmatize(\"bats\")\n",
    "#     for word in text:\n",
    "#         lemmatizer.lemmatize(word)\n",
    "#     print(text)\n",
    "    res = [lemmatizer.lemmatize(word) for word in text]\n",
    "    return res"
   ]
  },
  {
   "cell_type": "code",
   "execution_count": 50,
   "metadata": {},
   "outputs": [],
   "source": [
    "def process_text(text):\n",
    "#     text = remove_punctuation(text)\n",
    "    text = text.replace(\"\\n\", \" \")\n",
    "    text = tokenization(text)\n",
    "    text = lemmatizer_func(text)\n",
    "    text = remove_stopwords(text)\n",
    "\n",
    "    return text"
   ]
  },
  {
   "cell_type": "code",
   "execution_count": 31,
   "metadata": {},
   "outputs": [],
   "source": [
    "# print(process_text(ad))\n",
    "processed_ad = process_text(ad)\n",
    "processed_resume = process_text(resume)\n",
    "# print(processed_ad)"
   ]
  },
  {
   "cell_type": "code",
   "execution_count": 23,
   "metadata": {},
   "outputs": [],
   "source": [
    "ad_dictionary = corpora.Dictionary([x.split() for x in processed_ad])\n",
    "feature_cnt = len(ad_dictionary.token2id)"
   ]
  },
  {
   "cell_type": "code",
   "execution_count": 27,
   "metadata": {},
   "outputs": [],
   "source": [
    "corpus = [ad_dictionary.doc2bow(text) for text in [x.split() for x in processed_ad]]\n",
    "tfidf = models.TfidfModel(corpus) \n",
    "# print(corpus)"
   ]
  },
  {
   "cell_type": "code",
   "execution_count": 34,
   "metadata": {},
   "outputs": [],
   "source": [
    "index = similarities.SparseMatrixSimilarity(tfidf[corpus], num_features = feature_cnt)"
   ]
  },
  {
   "cell_type": "code",
   "execution_count": 52,
   "metadata": {},
   "outputs": [
    {
     "name": "stdout",
     "output_type": "stream",
     "text": [
      "[' Develop & Maintain Web / Mobile Application Translating requirement and mock up into fully functioning feature Frontend and backend development outlined in defined technical instructions and specifications for systems and applications Build/integrate web API/webhooks Coordinate tests with end users Write/rewrite code in reusable and maintainable way  Requirements  Expertise in HTML, CSS, JavaScript (ES6) & MySQL.', 'Expertise in NodeJS.', 'Expertise in React, NextJS Framework.', 'Experience in writing RESTful API.', 'Familiar with TypeScript.', 'Familiar with Git version control.', 'Having experience in RWD development.', 'Willing to learn and embrace new technologies, strong communication skills.', 'Write/rewrite code in reusable and maintainable way.', '1 - 3 years experience Required language(s): English, Mandarin.']\n"
     ]
    }
   ],
   "source": [
    "# for i in process_text(ad):\n",
    "#     print(i)\n",
    "print(process_text(ad))"
   ]
  },
  {
   "cell_type": "code",
   "execution_count": 40,
   "metadata": {},
   "outputs": [],
   "source": [
    "kw_vector = ad_dictionary.doc2bow(processed_resume)"
   ]
  },
  {
   "cell_type": "code",
   "execution_count": 38,
   "metadata": {},
   "outputs": [
    {
     "name": "stdout",
     "output_type": "stream",
     "text": [
      "[0.         0.         0.         0.         0.         0.\n",
      " 0.         0.         0.         0.         0.13013682 0.\n",
      " 0.         0.32865548 0.         0.         0.13013682 0.\n",
      " 0.         0.26027364 0.39041045 0.         0.26027364 0.\n",
      " 0.         0.         0.26027364 0.         0.21910365 0.\n",
      " 0.         0.         0.         0.         0.13013682 0.13013682\n",
      " 0.         0.         0.         0.         0.         0.\n",
      " 0.13013682 0.         0.         0.13013682 0.         0.\n",
      " 0.39041045 0.         0.         0.         0.13013682 0.\n",
      " 0.         0.         0.21910365 0.         0.32865548 0.\n",
      " 0.         0.         0.         0.         0.         0.\n",
      " 0.13013682 0.         0.21910365 0.         0.         0.\n",
      " 0.         0.26027364 0.26027364 0.21910365 0.         0.\n",
      " 0.13013682 0.        ]\n",
      "keyword is similar to text1: 0.00\n",
      "keyword is similar to text2: 0.00\n",
      "keyword is similar to text3: 0.00\n",
      "keyword is similar to text4: 0.00\n",
      "keyword is similar to text5: 0.00\n",
      "keyword is similar to text6: 0.00\n",
      "keyword is similar to text7: 0.00\n",
      "keyword is similar to text8: 0.00\n",
      "keyword is similar to text9: 0.00\n",
      "keyword is similar to text10: 0.00\n",
      "keyword is similar to text11: 0.13\n",
      "keyword is similar to text12: 0.00\n",
      "keyword is similar to text13: 0.00\n",
      "keyword is similar to text14: 0.33\n",
      "keyword is similar to text15: 0.00\n",
      "keyword is similar to text16: 0.00\n",
      "keyword is similar to text17: 0.13\n",
      "keyword is similar to text18: 0.00\n",
      "keyword is similar to text19: 0.00\n",
      "keyword is similar to text20: 0.26\n",
      "keyword is similar to text21: 0.39\n",
      "keyword is similar to text22: 0.00\n",
      "keyword is similar to text23: 0.26\n",
      "keyword is similar to text24: 0.00\n",
      "keyword is similar to text25: 0.00\n",
      "keyword is similar to text26: 0.00\n",
      "keyword is similar to text27: 0.26\n",
      "keyword is similar to text28: 0.00\n",
      "keyword is similar to text29: 0.22\n",
      "keyword is similar to text30: 0.00\n",
      "keyword is similar to text31: 0.00\n",
      "keyword is similar to text32: 0.00\n",
      "keyword is similar to text33: 0.00\n",
      "keyword is similar to text34: 0.00\n",
      "keyword is similar to text35: 0.13\n",
      "keyword is similar to text36: 0.13\n",
      "keyword is similar to text37: 0.00\n",
      "keyword is similar to text38: 0.00\n",
      "keyword is similar to text39: 0.00\n",
      "keyword is similar to text40: 0.00\n",
      "keyword is similar to text41: 0.00\n",
      "keyword is similar to text42: 0.00\n",
      "keyword is similar to text43: 0.13\n",
      "keyword is similar to text44: 0.00\n",
      "keyword is similar to text45: 0.00\n",
      "keyword is similar to text46: 0.13\n",
      "keyword is similar to text47: 0.00\n",
      "keyword is similar to text48: 0.00\n",
      "keyword is similar to text49: 0.39\n",
      "keyword is similar to text50: 0.00\n",
      "keyword is similar to text51: 0.00\n",
      "keyword is similar to text52: 0.00\n",
      "keyword is similar to text53: 0.13\n",
      "keyword is similar to text54: 0.00\n",
      "keyword is similar to text55: 0.00\n",
      "keyword is similar to text56: 0.00\n",
      "keyword is similar to text57: 0.22\n",
      "keyword is similar to text58: 0.00\n",
      "keyword is similar to text59: 0.33\n",
      "keyword is similar to text60: 0.00\n",
      "keyword is similar to text61: 0.00\n",
      "keyword is similar to text62: 0.00\n",
      "keyword is similar to text63: 0.00\n",
      "keyword is similar to text64: 0.00\n",
      "keyword is similar to text65: 0.00\n",
      "keyword is similar to text66: 0.00\n",
      "keyword is similar to text67: 0.13\n",
      "keyword is similar to text68: 0.00\n",
      "keyword is similar to text69: 0.22\n",
      "keyword is similar to text70: 0.00\n",
      "keyword is similar to text71: 0.00\n",
      "keyword is similar to text72: 0.00\n",
      "keyword is similar to text73: 0.00\n",
      "keyword is similar to text74: 0.26\n",
      "keyword is similar to text75: 0.26\n",
      "keyword is similar to text76: 0.22\n",
      "keyword is similar to text77: 0.00\n",
      "keyword is similar to text78: 0.00\n",
      "keyword is similar to text79: 0.13\n",
      "keyword is similar to text80: 0.00\n"
     ]
    }
   ],
   "source": [
    "sim = index[tfidf[kw_vector]]\n",
    "print(sim)\n",
    "for i in range(len(sim)):\n",
    "    print('keyword is similar to text%d: %.2f' % (i + 1, sim[i]))"
   ]
  },
  {
   "cell_type": "code",
   "execution_count": null,
   "metadata": {},
   "outputs": [],
   "source": []
  },
  {
   "cell_type": "code",
   "execution_count": null,
   "metadata": {},
   "outputs": [],
   "source": []
  },
  {
   "cell_type": "code",
   "execution_count": null,
   "metadata": {},
   "outputs": [],
   "source": []
  },
  {
   "cell_type": "code",
   "execution_count": 14,
   "metadata": {},
   "outputs": [],
   "source": [
    "# print(process_text(resume))"
   ]
  },
  {
   "cell_type": "code",
   "execution_count": 336,
   "metadata": {},
   "outputs": [],
   "source": [
    "from sklearn.feature_extraction.text import CountVectorizer"
   ]
  },
  {
   "cell_type": "code",
   "execution_count": 624,
   "metadata": {},
   "outputs": [],
   "source": [
    "ad = \"\"\"\n",
    "CoinGecko is a global leader in tracking cryptocurrency data. Operating since 2014, CoinGecko has built the world's largest cryptocurrency data platform, tracking over 10,000 tokens across more than 400 exchanges, serving over 300 million page views in more than 100 countries. We are proud to have played a major part in mainstream awareness, adoption, and education of cryptocurrency globally.\n",
    "\n",
    "\n",
    "We at CoinGecko believe that cryptocurrency and blockchain will define the future of finance, bringing greater financial and economic freedom around the world. In anticipation of that future, CoinGecko is building the foundation to scale cryptocurrency market data to serve billions.\n",
    "\n",
    "\n",
    "*Please note that this is a remote role for those based in Malaysia or Singapore. If you are based outside of these countries, still feel free to apply and we will review your application.\n",
    "\n",
    "\n",
    "We practice transparent salaries and a level structure at CoinGecko:\n",
    "\n",
    "L1 Salary: RM6,538\n",
    "L2 Salary: RM10,257\n",
    "L3 Salary: RM13,188\n",
    "L4 Salary: RM17,133\n",
    "\n",
    "We are prioritizing hires from L2-L4, but junior candidates are encouraged to apply.\n",
    "\n",
    "\n",
    "Learn more about our level structure at:\n",
    "\n",
    "[https://www.coingecko.com/en/careers/career-progression]\n",
    "\n",
    "\n",
    "We are working on several exciting projects, and each project will require a different set of expertise. A quick overview:\n",
    "\n",
    "Crypto Exchange: Requires graphql, ruby on the backend, and experience working with APIs.\n",
    "Gecko Terminal: Requires react on the frontend, and experience reading Etherscan.\n",
    "Web Development: Requires ruby on the backend.\n",
    "\n",
    "What you'll be doing:\n",
    "\n",
    "Work with our engineering team and product managers to ship products.\n",
    "Articulate a long term vision for maintaining and scaling our backend systems\n",
    "Write high quality, well tested code to meet the needs of your customers.\n",
    "Solve unique and large scale technical problems.\n",
    "Builds the next generation of systems to make cryptocurrency data accessible to everyone across the globe at scale on the web and mobile (iOS & Android).\n",
    "Develop and scale the CoinGecko Data API that currently powers some of the biggest brands in the space.\n",
    "Manages infrastructure that is running in the cloud (Amazon Web Services & Google Cloud).\n",
    "Research and development of decentralized apps, Web3, and Solidity smart contracts on the blockchain network.\n",
    "\n",
    "What we look for in you:\n",
    "\n",
    "You have at least 5 years of experience in software engineering.\n",
    "You’ve designed, built, scaled and maintained production services\n",
    "You write high quality, well tested code to meet the needs of your customers.\n",
    "You have keen interest in cryptocurrency, blockchain, and smart contracts.\n",
    "\"\"\""
   ]
  },
  {
   "cell_type": "code",
   "execution_count": 625,
   "metadata": {},
   "outputs": [],
   "source": [
    "resume = \"\"\"\n",
    "Coursework - Algorithms and Data Structures, Object Oriented Programming, Software Design and\n",
    "Development, Agile Software Projects, Advanced Database Techniques, Digital Signal Processing, IoT,\n",
    "Machine Learning, and Artificial Intelligence.\n",
    "Experience\n",
    "SR. SOFTWARE DEVELOPER, NINDATECH SDN. BHD. — DEC 2019 - PRESENT\n",
    "• Planned and executed implementation of a SaaS application’s frontend/backend for gamifying HR.\n",
    "• Created image to text API to significantly decrease user’s time spent on web forms.\n",
    "• Improved internal Agile software development with discrete optimisation techniques and\n",
    "increased sprint completion rate.\n",
    "• Optimised frontend with caching and architectural improvements, cutting down rendering time by\n",
    "an estimated 5% - 11% overall.\n",
    "Technology stack - ReactJS (with Redux, Redux-Saga), Python, Loopback 3 & 4, PostgreSQL, MongoDB.\n",
    "CONTRACT DEVELOPER, HYRE GROUP LTD. — 2018 - 2019\n",
    "• Implemented mobile payment with Braintree.\n",
    "• Created freelance babysitter marketplace application released to Play Store and App Store..\n",
    "Technology stack - React-Native, ExpressJS, MongoDB, Digital Ocean.\n",
    "CONTRACT LEAD DEVELOPER, ONE RELIEF — 2018 - 2019\n",
    "• Implemented platform payment system with Apple Pay, Google Pay and Paypal which processed\n",
    "thousands of dollars in donations.\n",
    "• Implemented a social media sharing feature from a donation page which increased user\n",
    "engagement with the platform.\n",
    "Technology stack - PugJS, ExpressJS, MongoDB, Amazon AWS.\n",
    "CONTRACT DEVELOPER, UDACITY BLITZ — JUNE 2017 - DEC 2017\n",
    "• Created an internal video editing application for Android and iOS with React-Native. Rewrote video\n",
    "editing functions with modules written in C++.\n",
    "• Implemented a serverless API for a book review and recommendation SaaS product deployed to\n",
    "AWS Lambda.\n",
    "• Created an API with Python for a NLP based conversational system serving a Javascript powered\n",
    "chatbot for automated customer support.\n",
    "Technology stack - React-Native, Flask, Serverless, MongoDB, Amazon AWS.\n",
    "PART-TIME CODE MENTOR, UDACITY INC. JAN 2017 - MARCH 2020\n",
    "• Mentored students learning front-end web development, mobile development and deep learning.\n",
    "Technology stack - React, React-Native, Tensorflow.\n",
    "Personal Projects\n",
    "Indoor farming - urban IoT vegetable farm with automated lighting, irrigation and data collection.\n",
    "Hardware/software stack - C++, Python, ESP8266, Raspberry Pi.\n",
    "Self-driving robot car - autonomous mapping and navigation.\n",
    "Hardware/software stack - Python, C++, ROS, Nvidia Jetson Nano.\n",
    "Skills\n",
    "Software: (proficient): Javascript, Python, HTML, CSS, Git (familiar): C++, SQL, Unix, Typescript\n",
    "cryptocurrency API ruby token data platform articulate ios android etherscan\n",
    "\"\"\""
   ]
  },
  {
   "cell_type": "code",
   "execution_count": 626,
   "metadata": {},
   "outputs": [],
   "source": [
    "# print(process_text(ad))"
   ]
  },
  {
   "cell_type": "code",
   "execution_count": 627,
   "metadata": {},
   "outputs": [],
   "source": [
    "text = [\" \".join(process_text(resume)), \"\".join(process_text(ad))]"
   ]
  },
  {
   "cell_type": "code",
   "execution_count": 628,
   "metadata": {},
   "outputs": [],
   "source": [
    "cv = CountVectorizer()\n",
    "count_matrix = cv.fit_transform(text)"
   ]
  },
  {
   "cell_type": "code",
   "execution_count": 629,
   "metadata": {},
   "outputs": [],
   "source": [
    "from sklearn.metrics.pairwise import cosine_similarity"
   ]
  },
  {
   "cell_type": "code",
   "execution_count": 630,
   "metadata": {},
   "outputs": [
    {
     "name": "stdout",
     "output_type": "stream",
     "text": [
      "Cosine Similarity Score:\n",
      "[[1. 1.]\n",
      " [1. 1.]]\n"
     ]
    }
   ],
   "source": [
    "print(\"Cosine Similarity Score:\")\n",
    "print(cosine_similarity(count_matrix))"
   ]
  },
  {
   "cell_type": "code",
   "execution_count": 631,
   "metadata": {},
   "outputs": [
    {
     "name": "stdout",
     "output_type": "stream",
     "text": [
      "Resume match with job ad is 100%\n"
     ]
    }
   ],
   "source": [
    "match = round(cosine_similarity(count_matrix)[0][1] * 100)\n",
    "print(\"Resume match with job ad is \"+ str(match) + \"%\")"
   ]
  },
  {
   "cell_type": "code",
   "execution_count": 478,
   "metadata": {},
   "outputs": [
    {
     "name": "stdout",
     "output_type": "stream",
     "text": [
      "35\n"
     ]
    }
   ],
   "source": [
    "print(match)"
   ]
  },
  {
   "cell_type": "code",
   "execution_count": 609,
   "metadata": {},
   "outputs": [
    {
     "name": "stdout",
     "output_type": "stream",
     "text": [
      "Coursework Algorithms Data Structures Object Oriented Programming Software Design Development Agile Software Projects Advanced Database Techniques Digital Signal Processing IoT Machine Learning Artificial Intelligence Experience SR SOFTWARE DEVELOPER NINDATECH SDN BHD DEC 2019 PRESENT Planned executed implementation SaaS application frontendbackend gamifying HR Created image text API significantly decrease user time spent web form Improved internal Agile software development discrete optimisation technique increased sprint completion rate Optimised frontend caching architectural improvement cutting rendering time estimated 5 11 overall Technology stack ReactJS Redux ReduxSaga Python Loopback 3 4 PostgreSQL MongoDB CONTRACT DEVELOPER HYRE GROUP LTD 2018 2019 Implemented mobile payment Braintree Created freelance babysitter marketplace application released Play Store App Store Technology stack ReactNative ExpressJS MongoDB Digital Ocean CONTRACT LEAD DEVELOPER ONE RELIEF 2018 2019 Implemented platform payment system Apple Pay Google Pay Paypal processed thousand dollar donation Implemented social medium sharing feature donation page increased user engagement platform Technology stack PugJS ExpressJS MongoDB Amazon AWS CONTRACT DEVELOPER UDACITY BLITZ JUNE 2017 DEC 2017 Created internal video editing application Android iOS ReactNative Rewrote video editing function module written C Implemented serverless API book review recommendation SaaS product deployed AWS Lambda Created API Python NLP based conversational system serving Javascript powered chatbot automated customer support Technology stack ReactNative Flask Serverless MongoDB Amazon AWS PARTTIME CODE MENTOR UDACITY INC JAN 2017 MARCH 2020 Mentored student learning frontend web development mobile development deep learning Technology stack React ReactNative Tensorflow Personal Projects Indoor farming urban IoT vegetable farm automated lighting irrigation data collection Hardwaresoftware stack C Python ESP8266 Raspberry Pi Selfdriving robot car autonomous mapping navigation Hardwaresoftware stack Python C ROS Nvidia Jetson Nano Skills Software proficient Javascript Python HTML CSS Git familiar C SQL Unix Typescript cryptocurrency API ruby token data platform\n"
     ]
    }
   ],
   "source": [
    "print(\" \".join(process_text(resume)))"
   ]
  },
  {
   "cell_type": "code",
   "execution_count": 588,
   "metadata": {},
   "outputs": [
    {
     "name": "stdout",
     "output_type": "stream",
     "text": [
      "['CoinGecko', 'global', 'leader', 'tracking', 'cryptocurrency', 'data', 'Operating', 'since', '2014', 'CoinGecko', 'built', 'world', 'largest', 'cryptocurrency', 'data', 'platform', 'tracking', '10000', 'token', 'across', '400', 'exchange', 'serving', '300', 'million', 'page', 'view', '100', 'country', 'We', 'proud', 'played', 'major', 'part', 'mainstream', 'awareness', 'adoption', 'education', 'cryptocurrency', 'globally', 'We', 'CoinGecko', 'believe', 'cryptocurrency', 'blockchain', 'define', 'future', 'finance', 'bringing', 'greater', 'financial', 'economic', 'freedom', 'around', 'world', 'In', 'anticipation', 'future', 'CoinGecko', 'building', 'foundation', 'scale', 'cryptocurrency', 'market', 'data', 'serve', 'billion', 'Please', 'note', 'remote', 'role', 'based', 'Malaysia', 'Singapore', 'If', 'based', 'outside', 'country', 'still', 'feel', 'free', 'apply', 'review', 'application', 'We', 'practice', 'transparent', 'salary', 'level', 'structure', 'CoinGecko', 'L1', 'Salary', 'RM6538', 'L2', 'Salary', 'RM10257', 'L3', 'Salary', 'RM13188', 'L4', 'Salary', 'RM17133', 'We', 'prioritizing', 'hire', 'L2L4', 'junior', 'candidate', 'encouraged', 'apply', 'Learn', 'level', 'structure', 'httpswwwcoingeckocomencareerscareerprogression', 'We', 'working', 'several', 'exciting', 'project', 'project', 'require', 'different', 'set', 'expertise', 'A', 'quick', 'overview', 'Crypto', 'Exchange', 'Requires', 'graphql', 'ruby', 'backend', 'experience', 'working', 'APIs', 'Gecko', 'Terminal', 'Requires', 'react', 'frontend', 'experience', 'reading', 'Etherscan', 'Web', 'Development', 'Requires', 'ruby', 'backend', 'What', 'youll', 'Work', 'engineering', 'team', 'product', 'manager', 'ship', 'product', 'Articulate', 'long', 'term', 'vision', 'maintaining', 'scaling', 'backend', 'system', 'Write', 'high', 'quality', 'well', 'tested', 'code', 'meet', 'need', 'customer', 'Solve', 'unique', 'large', 'scale', 'technical', 'problem', 'Builds', 'next', 'generation', 'system', 'make', 'cryptocurrency', 'data', 'accessible', 'everyone', 'across', 'globe', 'scale', 'web', 'mobile', 'iOS', 'Android', 'Develop', 'scale', 'CoinGecko', 'Data', 'API', 'currently', 'power', 'biggest', 'brand', 'space', 'Manages', 'infrastructure', 'running', 'cloud', 'Amazon', 'Web', 'Services', 'Google', 'Cloud', 'Research', 'development', 'decentralized', 'apps', 'Web3', 'Solidity', 'smart', 'contract', 'blockchain', 'network', 'What', 'look', 'You', 'least', '5', 'year', 'experience', 'software', 'engineering', 'Youve', 'designed', 'built', 'scaled', 'maintained', 'production', 'service', 'You', 'write', 'high', 'quality', 'well', 'tested', 'code', 'meet', 'need', 'customer', 'You', 'keen', 'interest', 'cryptocurrency', 'blockchain', 'smart', 'contract']\n"
     ]
    }
   ],
   "source": [
    "print(process_text(ad))"
   ]
  },
  {
   "cell_type": "code",
   "execution_count": null,
   "metadata": {},
   "outputs": [],
   "source": []
  }
 ],
 "metadata": {
  "kernelspec": {
   "display_name": "Python 3",
   "language": "python",
   "name": "python3"
  },
  "language_info": {
   "codemirror_mode": {
    "name": "ipython",
    "version": 3
   },
   "file_extension": ".py",
   "mimetype": "text/x-python",
   "name": "python",
   "nbconvert_exporter": "python",
   "pygments_lexer": "ipython3",
   "version": "3.8.10"
  }
 },
 "nbformat": 4,
 "nbformat_minor": 4
}
