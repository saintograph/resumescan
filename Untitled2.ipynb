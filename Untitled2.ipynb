{
 "cells": [
  {
   "cell_type": "code",
   "execution_count": 45,
   "metadata": {},
   "outputs": [],
   "source": [
    "from fuzzywuzzy import fuzz\n",
    "from fuzzywuzzy import process\n",
    "from difflib import SequenceMatcher as SM\n",
    "from collections import defaultdict\n",
    "from gensim import corpora"
   ]
  },
  {
   "cell_type": "code",
   "execution_count": 46,
   "metadata": {},
   "outputs": [],
   "source": [
    "documents = [\n",
    "    \"The responsiveness of our app is ensured by an ElasticSearch cluster.\",\n",
    "    \"The app is made of a Vue.js frontend and a Node.js backend, both written in Typescript.\",\n",
    "    \"The almost real-time data processing pipelines hold components written in Rust and Golang.\",\n",
    "    \"Our stack is mostly in Node both on the backend and frontend, and we work with React for our interfaces and GraphQL as API.\",\n",
    "    \"Our Mobile Apps are made with Swift and Kotlin.\"\n",
    "]\n",
    "\n",
    "stoplist = set('for a of the and to in'.split())\n",
    "texts = [\n",
    "    [word for word in document.lower().split() if word not in stoplist]\n",
    "    for document in documents\n",
    "]\n",
    "\n",
    "# remove words that appear only once\n",
    "frequency = defaultdict(int)\n",
    "for text in texts:\n",
    "    for token in text:\n",
    "        frequency[token] += 1\n",
    "\n",
    "texts = [\n",
    "    [token for token in text if frequency[token] > 1]\n",
    "    for text in texts\n",
    "]\n",
    "\n",
    "dictionary = corpora.Dictionary(texts)\n",
    "corpus = [dictionary.doc2bow(text) for text in texts]"
   ]
  },
  {
   "cell_type": "code",
   "execution_count": 47,
   "metadata": {},
   "outputs": [],
   "source": [
    "from gensim import models\n",
    "lsi = models.LsiModel(corpus, id2word=dictionary, num_topics=2)"
   ]
  },
  {
   "cell_type": "code",
   "execution_count": 48,
   "metadata": {},
   "outputs": [
    {
     "name": "stdout",
     "output_type": "stream",
     "text": [
      "[(0, 1.153275503526602), (1, -0.7112020856454169)]\n"
     ]
    }
   ],
   "source": [
    "doc = \"Application user interface is made of a React.js frontend and a Node.js backend written with Typescript.\"\n",
    "vec_bow = dictionary.doc2bow(doc.lower().split())\n",
    "vec_lsi = lsi[vec_bow]  # convert the query to LSI space\n",
    "print(vec_lsi)"
   ]
  },
  {
   "cell_type": "code",
   "execution_count": 49,
   "metadata": {},
   "outputs": [],
   "source": [
    "from gensim import similarities\n",
    "index = similarities.MatrixSimilarity(lsi[corpus])  # transform corpus to LSI space and index it"
   ]
  },
  {
   "cell_type": "code",
   "execution_count": 50,
   "metadata": {},
   "outputs": [],
   "source": [
    "index.save('./similarity_01.index')\n",
    "index = similarities.MatrixSimilarity.load('./similarity_01.index')"
   ]
  },
  {
   "cell_type": "code",
   "execution_count": 51,
   "metadata": {},
   "outputs": [
    {
     "name": "stdout",
     "output_type": "stream",
     "text": [
      "[(0, 0.9220505), (1, 0.948815), (2, 0.7230117), (3, 0.6288132), (4, 0.5600751)]\n"
     ]
    }
   ],
   "source": [
    "sims = index[vec_lsi]  # perform a similarity query against the corpus\n",
    "print(list(enumerate(sims)))  # print (document_number, document_similarity) 2-tuples"
   ]
  },
  {
   "cell_type": "code",
   "execution_count": 52,
   "metadata": {},
   "outputs": [],
   "source": [
    "items = {}\n",
    "sims = sorted(enumerate(sims), key=lambda item: -item[1])\n",
    "for doc_position, doc_score in sims:\n",
    "#     print(doc_score, documents[doc_position])\n",
    "    items[documents[doc_position]] = {\"score\": doc_score * 100 }\n",
    "    items[documents[doc_position]]['score'] += fuzz.ratio(doc, documents[doc_position]) \n",
    "    items[documents[doc_position]]['score'] += fuzz.partial_ratio(doc, documents[doc_position])\n",
    "    items[documents[doc_position]]['score'] += SM(None, doc, documents[doc_position]).ratio() * 100\n",
    "    items[documents[doc_position]]['score'] = items[documents[doc_position]]['score'] / 4"
   ]
  },
  {
   "cell_type": "code",
   "execution_count": 53,
   "metadata": {},
   "outputs": [
    {
     "name": "stdout",
     "output_type": "stream",
     "text": [
      "{'The app is made of a Vue.js frontend and a Node.js backend, both written in Typescript.': {'score': 83.33032234738634}, 'The responsiveness of our app is ensured by an ElasticSearch cluster.': {'score': 48.08160872266472}, 'The almost real-time data processing pipelines hold components written in Rust and Golang.': {'score': 45.26085882272917}, 'Our stack is mostly in Node both on the backend and frontend, and we work with React for our interfaces and GraphQL as API.': {'score': 44.60799537697552}, 'Our Mobile Apps are made with Swift and Kotlin.': {'score': 39.87439416220646}}\n"
     ]
    }
   ],
   "source": [
    "print(items)"
   ]
  },
  {
   "cell_type": "code",
   "execution_count": 54,
   "metadata": {},
   "outputs": [],
   "source": [
    "for i in documents:\n",
    "    if items[i][\"score\"] > 80:\n",
    "        items[i][\"status\"] = \"passed\"\n",
    "    else:\n",
    "        items[i][\"status\"] = \"failed\""
   ]
  },
  {
   "cell_type": "code",
   "execution_count": 55,
   "metadata": {},
   "outputs": [
    {
     "name": "stdout",
     "output_type": "stream",
     "text": [
      "{'The app is made of a Vue.js frontend and a Node.js backend, both written in Typescript.': {'score': 83.33032234738634, 'status': 'passed'}, 'The responsiveness of our app is ensured by an ElasticSearch cluster.': {'score': 48.08160872266472, 'status': 'failed'}, 'The almost real-time data processing pipelines hold components written in Rust and Golang.': {'score': 45.26085882272917, 'status': 'failed'}, 'Our stack is mostly in Node both on the backend and frontend, and we work with React for our interfaces and GraphQL as API.': {'score': 44.60799537697552, 'status': 'failed'}, 'Our Mobile Apps are made with Swift and Kotlin.': {'score': 39.87439416220646, 'status': 'failed'}}\n"
     ]
    }
   ],
   "source": [
    "print(items)"
   ]
  },
  {
   "cell_type": "code",
   "execution_count": null,
   "metadata": {},
   "outputs": [],
   "source": []
  }
 ],
 "metadata": {
  "kernelspec": {
   "display_name": "Python 3",
   "language": "python",
   "name": "python3"
  },
  "language_info": {
   "codemirror_mode": {
    "name": "ipython",
    "version": 3
   },
   "file_extension": ".py",
   "mimetype": "text/x-python",
   "name": "python",
   "nbconvert_exporter": "python",
   "pygments_lexer": "ipython3",
   "version": "3.8.10"
  }
 },
 "nbformat": 4,
 "nbformat_minor": 4
}
